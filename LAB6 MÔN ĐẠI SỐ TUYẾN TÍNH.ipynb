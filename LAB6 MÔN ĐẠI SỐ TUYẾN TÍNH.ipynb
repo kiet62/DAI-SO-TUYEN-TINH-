{
  "cells": [
    {
      "cell_type": "markdown",
      "source": [],
      "metadata": {
        "id": "Fng_BiiVdu8W"
      }
    },
    {
      "cell_type": "code",
      "source": [
        "bài tập lớp"
      ],
      "metadata": {
        "id": "zcCW-kpCdxqw"
      },
      "execution_count": null,
      "outputs": []
    },
    {
      "cell_type": "code",
      "source": [
        "import numpy as np\n",
        "a = np.array([1,2,3])\n",
        "b = np.array([4,5,6])\n",
        "tich = np.inner(a, b)  # tích vô hướng\n",
        "print(tich)\n"
      ],
      "metadata": {
        "id": "ZaPDVduAd0XU",
        "outputId": "0cf9d498-a91c-4815-d4c9-abd27d12c899",
        "colab": {
          "base_uri": "https://localhost:8080/"
        }
      },
      "execution_count": 1,
      "outputs": [
        {
          "output_type": "stream",
          "name": "stdout",
          "text": [
            "32\n"
          ]
        }
      ]
    },
    {
      "cell_type": "code",
      "source": [
        "import numpy as np\n",
        "a = np.array([1, 2, -3])\n",
        "print(np.linalg.norm(a))\n"
      ],
      "metadata": {
        "id": "4J8ZLkc8eaD-",
        "outputId": "4c4512ed-9844-4694-a32f-c7cdc812fdfc",
        "colab": {
          "base_uri": "https://localhost:8080/"
        }
      },
      "execution_count": 2,
      "outputs": [
        {
          "output_type": "stream",
          "name": "stdout",
          "text": [
            "3.7416573867739413\n"
          ]
        }
      ]
    },
    {
      "cell_type": "code",
      "source": [
        "import numpy as np\n",
        "a = np.array([1, 2, -3])\n",
        "print(np.linalg.norm(a, 1))\n",
        ""
      ],
      "metadata": {
        "id": "-X6kgo1oebfh",
        "outputId": "665e08c8-3cc7-4290-a3a1-b9bd219378c2",
        "colab": {
          "base_uri": "https://localhost:8080/"
        }
      },
      "execution_count": 3,
      "outputs": [
        {
          "output_type": "stream",
          "name": "stdout",
          "text": [
            "6.0\n"
          ]
        }
      ]
    },
    {
      "cell_type": "code",
      "source": [
        "import math\n",
        "import numpy as np\n",
        "\n",
        "def chuan(a, p):\n",
        "    return np.linalg.norm(a, ord=p)\n",
        "\n",
        "a = np.array([1, 2, -3])\n",
        "print(chuan(a, 1))\n"
      ],
      "metadata": {
        "id": "kyT676uIei-x",
        "outputId": "610833b1-40ba-458d-cbce-5f8b5e5b833e",
        "colab": {
          "base_uri": "https://localhost:8080/"
        }
      },
      "execution_count": 4,
      "outputs": [
        {
          "output_type": "stream",
          "name": "stdout",
          "text": [
            "6.0\n"
          ]
        }
      ]
    },
    {
      "cell_type": "code",
      "source": [
        "np.linalg.norm(a, 1)\n"
      ],
      "metadata": {
        "id": "K2POH2DHeyYD",
        "outputId": "3f6dfa0a-c646-4180-aa0d-1b0634221be0",
        "colab": {
          "base_uri": "https://localhost:8080/"
        }
      },
      "execution_count": 5,
      "outputs": [
        {
          "output_type": "execute_result",
          "data": {
            "text/plain": [
              "np.float64(6.0)"
            ]
          },
          "metadata": {},
          "execution_count": 5
        }
      ]
    },
    {
      "cell_type": "code",
      "source": [
        "chuan(a, 2)"
      ],
      "metadata": {
        "id": "sT1FaH06e6m_",
        "outputId": "bd56b674-5292-4c27-f959-468c6022ccf3",
        "colab": {
          "base_uri": "https://localhost:8080/"
        }
      },
      "execution_count": 6,
      "outputs": [
        {
          "output_type": "execute_result",
          "data": {
            "text/plain": [
              "np.float64(3.7416573867739413)"
            ]
          },
          "metadata": {},
          "execution_count": 6
        }
      ]
    },
    {
      "cell_type": "code",
      "source": [
        "np.linalg.norm(a,2)"
      ],
      "metadata": {
        "id": "y0oxmma3e-V2",
        "outputId": "696a65fd-fe53-48bd-db6d-eee76e6b9e58",
        "colab": {
          "base_uri": "https://localhost:8080/"
        }
      },
      "execution_count": 7,
      "outputs": [
        {
          "output_type": "execute_result",
          "data": {
            "text/plain": [
              "np.float64(3.7416573867739413)"
            ]
          },
          "metadata": {},
          "execution_count": 7
        }
      ]
    },
    {
      "cell_type": "code",
      "source": [
        " chuan(a, 3)"
      ],
      "metadata": {
        "id": "dPudFJsrfB4Y",
        "outputId": "e3deccfa-cc20-4e52-cfe2-bacc02e20cf3",
        "colab": {
          "base_uri": "https://localhost:8080/"
        }
      },
      "execution_count": 8,
      "outputs": [
        {
          "output_type": "execute_result",
          "data": {
            "text/plain": [
              "np.float64(3.3019272488946263)"
            ]
          },
          "metadata": {},
          "execution_count": 8
        }
      ]
    },
    {
      "cell_type": "code",
      "source": [
        "np.linalg.norm(a,3)"
      ],
      "metadata": {
        "id": "xZmB-DCffFUC",
        "outputId": "1caff888-0ec0-4677-d15a-59de7d88c85b",
        "colab": {
          "base_uri": "https://localhost:8080/"
        }
      },
      "execution_count": 9,
      "outputs": [
        {
          "output_type": "execute_result",
          "data": {
            "text/plain": [
              "np.float64(3.3019272488946263)"
            ]
          },
          "metadata": {},
          "execution_count": 9
        }
      ]
    },
    {
      "cell_type": "code",
      "source": [
        " chuan(a, 1000)"
      ],
      "metadata": {
        "id": "pKcrUO2QfLSW",
        "outputId": "8764f6e1-6fba-4c06-8a75-fef6e4227d7c",
        "colab": {
          "base_uri": "https://localhost:8080/"
        }
      },
      "execution_count": 10,
      "outputs": [
        {
          "output_type": "stream",
          "name": "stderr",
          "text": [
            "/usr/local/lib/python3.11/dist-packages/numpy/linalg/_linalg.py:2780: RuntimeWarning: overflow encountered in power\n",
            "  absx **= ord\n"
          ]
        },
        {
          "output_type": "execute_result",
          "data": {
            "text/plain": [
              "np.float64(inf)"
            ]
          },
          "metadata": {},
          "execution_count": 10
        }
      ]
    },
    {
      "cell_type": "code",
      "source": [
        " np.linalg.norm(a,1000)"
      ],
      "metadata": {
        "id": "N0rAH3nvfOau",
        "outputId": "a9f88f50-4eff-440d-d975-cbac9ea3fd3f",
        "colab": {
          "base_uri": "https://localhost:8080/"
        }
      },
      "execution_count": 11,
      "outputs": [
        {
          "output_type": "execute_result",
          "data": {
            "text/plain": [
              "np.float64(inf)"
            ]
          },
          "metadata": {},
          "execution_count": 11
        }
      ]
    },
    {
      "cell_type": "code",
      "source": [
        "from scipy import linalg\n",
        "linalg.norm(a)"
      ],
      "metadata": {
        "id": "Q-VvwP3SfaU8",
        "outputId": "8841f3f6-99de-4144-a054-2dd09b7cfe6f",
        "colab": {
          "base_uri": "https://localhost:8080/"
        }
      },
      "execution_count": 13,
      "outputs": [
        {
          "output_type": "execute_result",
          "data": {
            "text/plain": [
              "np.float64(3.7416573867739413)"
            ]
          },
          "metadata": {},
          "execution_count": 13
        }
      ]
    },
    {
      "cell_type": "code",
      "source": [
        " linalg.norm(a, 100)"
      ],
      "metadata": {
        "id": "qgyVdq5EfdMu",
        "outputId": "8a08155a-1c04-4d9d-e367-df0b4272d442",
        "colab": {
          "base_uri": "https://localhost:8080/"
        }
      },
      "execution_count": 14,
      "outputs": [
        {
          "output_type": "execute_result",
          "data": {
            "text/plain": [
              "np.float64(3.0)"
            ]
          },
          "metadata": {},
          "execution_count": 14
        }
      ]
    },
    {
      "cell_type": "code",
      "source": [
        " linalg.norm(a, 1000)"
      ],
      "metadata": {
        "id": "voRS1CGifjY5",
        "outputId": "791b57cf-994c-4e4b-b0ce-9d905f509aaa",
        "colab": {
          "base_uri": "https://localhost:8080/"
        }
      },
      "execution_count": 15,
      "outputs": [
        {
          "output_type": "stream",
          "name": "stderr",
          "text": [
            "/usr/local/lib/python3.11/dist-packages/numpy/linalg/_linalg.py:2780: RuntimeWarning: overflow encountered in power\n",
            "  absx **= ord\n"
          ]
        },
        {
          "output_type": "execute_result",
          "data": {
            "text/plain": [
              "np.float64(inf)"
            ]
          },
          "metadata": {},
          "execution_count": 15
        }
      ]
    },
    {
      "cell_type": "code",
      "source": [
        "import numpy as np\n",
        "\n",
        "m = 10\n",
        "v1 = np.array([5, -4, 3])\n",
        "v2 = np.array([4, 3, -2])\n",
        "v3 = np.array([-4, -3, -1])\n",
        "v4 = np.array([-9, 8, 6])\n",
        "mi = np.array([2, 5, 2, 1])\n",
        "\n",
        "M = np.array([v1, v2, v3, v4])\n",
        "MT = M.transpose()\n",
        "\n",
        "print(MT)\n"
      ],
      "metadata": {
        "id": "8Bc-uA0OfmTX",
        "outputId": "14f9ac84-33f2-4a38-c493-f2401fc2e605",
        "colab": {
          "base_uri": "https://localhost:8080/"
        }
      },
      "execution_count": 16,
      "outputs": [
        {
          "output_type": "stream",
          "name": "stdout",
          "text": [
            "[[ 5  4 -4 -9]\n",
            " [-4  3 -3  8]\n",
            " [ 3 -2 -1  6]]\n"
          ]
        }
      ]
    },
    {
      "cell_type": "code",
      "source": [
        " v = (1.0/m)*MT.dot(mi)\n",
        ""
      ],
      "metadata": {
        "id": "yaXCTxFOfw4H"
      },
      "execution_count": 19,
      "outputs": []
    },
    {
      "cell_type": "code",
      "source": [
        " print (v)"
      ],
      "metadata": {
        "id": "GgxbJpaZf6YK",
        "outputId": "a9406427-63e9-4ca5-b349-4cf0002af25b",
        "colab": {
          "base_uri": "https://localhost:8080/"
        }
      },
      "execution_count": 20,
      "outputs": [
        {
          "output_type": "stream",
          "name": "stdout",
          "text": [
            "[1.3 0.9 0. ]\n"
          ]
        }
      ]
    },
    {
      "cell_type": "code",
      "source": [
        "import numpy as np\n",
        "\n",
        "A = np.array([[0.998, 0.136],\n",
        "              [0.002, 0.864]])\n",
        "\n",
        "x0 = np.array([0.95, 0.05])\n",
        "\n",
        "A_100 = np.linalg.matrix_power(A, 100)\n",
        "\n",
        "x_100 = A_100 @ x0\n",
        "\n",
        "print(x_100)\n"
      ],
      "metadata": {
        "id": "IvfyeXV-f8TT",
        "outputId": "15732a02-85a1-4517-8971-83ba8de0008b",
        "colab": {
          "base_uri": "https://localhost:8080/"
        }
      },
      "execution_count": 21,
      "outputs": [
        {
          "output_type": "stream",
          "name": "stdout",
          "text": [
            "[0.98550723 0.01449277]\n"
          ]
        }
      ]
    },
    {
      "cell_type": "code",
      "source": [
        "import numpy as np\n",
        "\n",
        "A = np.array([[0.998, 0.136],\n",
        "              [0.002, 0.864]])\n",
        "\n",
        "v0 = np.array([0.95, 0.05])\n",
        "\n",
        "A_100 = np.linalg.matrix_power(A, 100)\n",
        "\n",
        "v100 = A_100 @ v0\n",
        "\n",
        "print(v100)\n"
      ],
      "metadata": {
        "id": "rOKV796igj7e",
        "outputId": "c3c758af-a14a-4c79-9347-6d4ba3ae929f",
        "colab": {
          "base_uri": "https://localhost:8080/"
        }
      },
      "execution_count": 22,
      "outputs": [
        {
          "output_type": "stream",
          "name": "stdout",
          "text": [
            "[0.98550723 0.01449277]\n"
          ]
        }
      ]
    },
    {
      "cell_type": "code",
      "source": [
        "import sympy as sym\n",
        "\n",
        "x, y = sym.symbols('x y')\n",
        "xy = sym.Matrix([x, y])\n",
        "A = sym.Matrix([[1, -68], [1, 1]])\n",
        "v = sym.Matrix([0, 1])\n",
        "\n",
        "nghiem = sym.solve([A * xy - v])\n",
        "print(sym.pretty(nghiem))\n"
      ],
      "metadata": {
        "id": "w4YmqD1HgmFr",
        "outputId": "66f87e47-ee7b-474e-9af4-9fd54df05f53",
        "colab": {
          "base_uri": "https://localhost:8080/"
        }
      },
      "execution_count": 23,
      "outputs": [
        {
          "output_type": "stream",
          "name": "stdout",
          "text": [
            "⎧   68         ⎫\n",
            "⎨x: ──, y: 1/69⎬\n",
            "⎩   69         ⎭\n"
          ]
        }
      ]
    },
    {
      "cell_type": "code",
      "source": [
        "import numpy as np\n",
        "\n",
        "A = np.array([[1, 6],\n",
        "              [5, 2]])\n",
        "\n",
        "u = np.array([-5, 6])\n",
        "\n",
        "Au = A @ u\n",
        "lam_u = -4 * u\n",
        "\n",
        "print(Au)\n",
        "print(lam_u)\n",
        "print(np.allclose(Au, lam_u))\n"
      ],
      "metadata": {
        "id": "Qgj1VBAFg28j",
        "outputId": "ae046c6f-aa02-4d73-f453-025dd86634ed",
        "colab": {
          "base_uri": "https://localhost:8080/"
        }
      },
      "execution_count": 24,
      "outputs": [
        {
          "output_type": "stream",
          "name": "stdout",
          "text": [
            "[ 31 -13]\n",
            "[ 20 -24]\n",
            "False\n"
          ]
        }
      ]
    },
    {
      "cell_type": "code",
      "source": [
        "import sympy\n",
        "x, y, Lambda = sympy.symbols('x y Lambda')\n",
        "I = sympy.eye(2)\n",
        "A = sympy.Matrix([[2, 3], [3, -6]])\n",
        "phuongtrinh = sympy.Eq(sympy.det(Lambda * I - A), 0)\n",
        "nghiem = sympy.solve(phuongtrinh)\n",
        "print([sympy.N(phantu, 4) for phantu in nghiem])\n"
      ],
      "metadata": {
        "id": "yOYALknRg9Sv",
        "outputId": "c6a63207-f7a6-4da9-e791-6f9e85770d95",
        "colab": {
          "base_uri": "https://localhost:8080/"
        }
      },
      "execution_count": 25,
      "outputs": [
        {
          "output_type": "stream",
          "name": "stdout",
          "text": [
            "[-7.000, 3.000]\n"
          ]
        }
      ]
    },
    {
      "cell_type": "code",
      "source": [
        " print (sympy.pretty(nghiem))"
      ],
      "metadata": {
        "id": "oUgUSDZWhHJV",
        "outputId": "84613e47-70ba-4693-a268-f5c75af2ec71",
        "colab": {
          "base_uri": "https://localhost:8080/"
        }
      },
      "execution_count": 26,
      "outputs": [
        {
          "output_type": "stream",
          "name": "stdout",
          "text": [
            "[-7, 3]\n"
          ]
        }
      ]
    },
    {
      "cell_type": "code",
      "source": [
        "import sympy\n",
        "\n",
        "x, y = sympy.symbols('x y')\n",
        "A = sympy.Matrix([[2, 3], [3, -6]])\n",
        "lambda_val = 3\n",
        "I = sympy.eye(2)\n",
        "\n",
        "B = A - lambda_val * I\n",
        "v = sympy.Matrix([x, y])\n",
        "\n",
        "phuongtrinh = B * v\n",
        "nghiem = sympy.solve(phuongtrinh, (x, y), dict=True)\n",
        "print(nghiem)\n"
      ],
      "metadata": {
        "id": "wRaZ7tNdhWPc",
        "outputId": "696143ec-6a23-48b5-eaf0-c6fd5e6c99f4",
        "colab": {
          "base_uri": "https://localhost:8080/"
        }
      },
      "execution_count": 27,
      "outputs": [
        {
          "output_type": "stream",
          "name": "stdout",
          "text": [
            "[{x: 3*y}]\n"
          ]
        }
      ]
    },
    {
      "cell_type": "code",
      "source": [
        "import numpy as np\n",
        "from numpy import linalg as LA\n",
        "\n",
        "A = np.array([[2, 3],\n",
        "              [3, -6]])\n",
        "\n",
        "D = np.array([[-7, 0],\n",
        "              [0, 3]])\n",
        "\n",
        "P = np.array([[-1.0/3, 3],\n",
        "              [1, 1]])\n",
        "\n",
        "P1 = LA.inv(P)\n",
        "print(P1)\n"
      ],
      "metadata": {
        "id": "iphHQ8VvhXaV",
        "outputId": "b92731eb-355b-48cb-87e0-f224ef7a19c0",
        "colab": {
          "base_uri": "https://localhost:8080/"
        }
      },
      "execution_count": 28,
      "outputs": [
        {
          "output_type": "stream",
          "name": "stdout",
          "text": [
            "[[-0.3  0.9]\n",
            " [ 0.3  0.1]]\n"
          ]
        }
      ]
    },
    {
      "cell_type": "code",
      "source": [
        "A.dot(P)"
      ],
      "metadata": {
        "id": "hHqaqBcUhfRw",
        "outputId": "d43abde7-5022-49ba-e1ef-a0167164396d",
        "colab": {
          "base_uri": "https://localhost:8080/"
        }
      },
      "execution_count": 29,
      "outputs": [
        {
          "output_type": "execute_result",
          "data": {
            "text/plain": [
              "array([[ 2.33333333,  9.        ],\n",
              "       [-7.        ,  3.        ]])"
            ]
          },
          "metadata": {},
          "execution_count": 29
        }
      ]
    },
    {
      "cell_type": "code",
      "source": [
        "P.dot(D)"
      ],
      "metadata": {
        "id": "nhkiC7RZhj7q",
        "outputId": "6251549e-1f27-48b7-b324-a798ef0a8cf6",
        "colab": {
          "base_uri": "https://localhost:8080/"
        }
      },
      "execution_count": 30,
      "outputs": [
        {
          "output_type": "execute_result",
          "data": {
            "text/plain": [
              "array([[ 2.33333333,  9.        ],\n",
              "       [-7.        ,  3.        ]])"
            ]
          },
          "metadata": {},
          "execution_count": 30
        }
      ]
    },
    {
      "cell_type": "code",
      "source": [
        " print (D **2)"
      ],
      "metadata": {
        "id": "y7mvL3t5hn7R",
        "outputId": "fbc0df95-542f-4bcf-a365-a4035291feb3",
        "colab": {
          "base_uri": "https://localhost:8080/"
        }
      },
      "execution_count": 31,
      "outputs": [
        {
          "output_type": "stream",
          "name": "stdout",
          "text": [
            "[[49  0]\n",
            " [ 0  9]]\n"
          ]
        }
      ]
    },
    {
      "cell_type": "markdown",
      "source": [
        "bài tập nhà"
      ],
      "metadata": {
        "id": "biberMRnhvEs"
      }
    },
    {
      "cell_type": "markdown",
      "source": [
        "câu 1: đáp án đúng là a,b,c\n"
      ],
      "metadata": {
        "id": "BG6POUE4h-h9"
      }
    },
    {
      "cell_type": "code",
      "source": [
        "import numpy as np\n",
        "\n",
        "u = np.array([1, 2, 3])\n",
        "v = np.array([4, 5, 6])\n",
        "p = np.array([2, 3, 4])\n",
        "\n",
        "khoang_cach = np.linalg.norm(u - v)\n",
        "print(khoang_cach)\n",
        "\n",
        "cos_theta = np.dot(u, v) / (np.linalg.norm(u) * np.linalg.norm(v))\n",
        "theta_rad = np.arccos(cos_theta)\n",
        "theta_deg = np.degrees(theta_rad)\n",
        "print(theta_rad)\n",
        "print(theta_deg)\n",
        "\n",
        "proj_p_on_v = (np.dot(p, v) / np.dot(v, v)) * v\n",
        "print(proj_p_on_v)\n"
      ],
      "metadata": {
        "id": "KXBnlZD1iXJS",
        "outputId": "55a50dcc-1b81-4c2d-f35e-1b7f26653822",
        "colab": {
          "base_uri": "https://localhost:8080/"
        }
      },
      "execution_count": 32,
      "outputs": [
        {
          "output_type": "stream",
          "name": "stdout",
          "text": [
            "5.196152422706632\n",
            "0.2257261285527342\n",
            "12.933154491899135\n",
            "[2.44155844 3.05194805 3.66233766]\n"
          ]
        }
      ]
    }
  ],
  "metadata": {
    "colab": {
      "name": "Welcome To Colab",
      "toc_visible": true,
      "provenance": []
    },
    "kernelspec": {
      "display_name": "Python 3",
      "name": "python3"
    }
  },
  "nbformat": 4,
  "nbformat_minor": 0
}