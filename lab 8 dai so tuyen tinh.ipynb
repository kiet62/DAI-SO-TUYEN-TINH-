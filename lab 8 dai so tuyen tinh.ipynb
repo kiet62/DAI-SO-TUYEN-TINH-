{
  "cells": [
    {
      "cell_type": "code",
      "source": [
        "import numpy as np\n",
        "\n",
        "u = np.array([2, -1, 5, 0])\n",
        "v = np.array([4, 3, 1, -1])\n",
        "w = np.array([-6, 2, 0, 3])\n",
        "\n",
        "x = 2 * u - (v + 3 * w)\n",
        "\n",
        "print(x)"
      ],
      "metadata": {
        "id": "klqt1sVekD5v",
        "outputId": "7e0da2f3-f5b3-480a-9a8b-08f176269f65",
        "colab": {
          "base_uri": "https://localhost:8080/"
        }
      },
      "execution_count": 1,
      "outputs": [
        {
          "output_type": "stream",
          "name": "stdout",
          "text": [
            "[ 18 -11   9  -8]\n"
          ]
        }
      ]
    },
    {
      "cell_type": "code",
      "source": [
        "import numpy as np\n",
        "\n",
        "u = np.array([2, -1, 5, 0])\n",
        "v = np.array([4, 3, 1, -1])\n",
        "w = np.array([-6, 2, 0, 3])\n",
        "\n",
        "x = 0.5 * (2 * u - v - 3 * w)\n",
        "\n",
        "print(x)"
      ],
      "metadata": {
        "id": "teEIGrKTkSmO",
        "outputId": "c0b045ea-4151-4236-884c-4bd75925937f",
        "colab": {
          "base_uri": "https://localhost:8080/"
        }
      },
      "execution_count": 2,
      "outputs": [
        {
          "output_type": "stream",
          "name": "stdout",
          "text": [
            "[ 9.  -5.5  4.5 -4. ]\n"
          ]
        }
      ]
    },
    {
      "cell_type": "code",
      "source": [
        "from numpy import linalg\n",
        "import numpy as np\n",
        "\n",
        "A = np.matrix([[0, -1, 3],[1, 1, 1],[4, 2, 2]])\n",
        "B = np.array([-1, -2, -2])\n",
        "\n",
        "X = np.linalg.solve(A, B)\n",
        "\n",
        "print(X)"
      ],
      "metadata": {
        "id": "P4wq1SUIkfep",
        "outputId": "1e9348d2-6b08-4667-b78d-ec7b65490b22",
        "colab": {
          "base_uri": "https://localhost:8080/"
        }
      },
      "execution_count": 3,
      "outputs": [
        {
          "output_type": "stream",
          "name": "stdout",
          "text": [
            "[ 1. -2. -1.]\n"
          ]
        }
      ]
    },
    {
      "cell_type": "code",
      "source": [
        "import numpy as np\n",
        "from numpy import linalg as LA\n",
        "\n",
        "A = np.matrix([[1, 0], [0, 0]])\n",
        "B = np.matrix([[0, 0], [0, 1]])\n",
        "\n",
        "print(\"Matrix A:\\n\", A)\n",
        "print(\"\\nMatrix B:\\n\", B)"
      ],
      "metadata": {
        "id": "EHhkaltZktH8",
        "outputId": "154e0e1e-139b-47e0-dec8-f742b4faf2f1",
        "colab": {
          "base_uri": "https://localhost:8080/"
        }
      },
      "execution_count": 4,
      "outputs": [
        {
          "output_type": "stream",
          "name": "stdout",
          "text": [
            "Matrix A:\n",
            " [[1 0]\n",
            " [0 0]]\n",
            "\n",
            "Matrix B:\n",
            " [[0 0]\n",
            " [0 1]]\n"
          ]
        }
      ]
    },
    {
      "cell_type": "code",
      "source": [
        "LA.inv(A+B)"
      ],
      "metadata": {
        "id": "RzbAl40qk4k0",
        "outputId": "543c092d-95d2-4e4c-b550-03c117f5d8ae",
        "colab": {
          "base_uri": "https://localhost:8080/"
        }
      },
      "execution_count": 5,
      "outputs": [
        {
          "output_type": "execute_result",
          "data": {
            "text/plain": [
              "matrix([[1., 0.],\n",
              "        [0., 1.]])"
            ]
          },
          "metadata": {},
          "execution_count": 5
        }
      ]
    },
    {
      "cell_type": "code",
      "source": [
        " LA.det(A)"
      ],
      "metadata": {
        "id": "xu46JJ9yk-jJ",
        "outputId": "ab4b748e-d280-4981-a183-24f1d80543da",
        "colab": {
          "base_uri": "https://localhost:8080/"
        }
      },
      "execution_count": 6,
      "outputs": [
        {
          "output_type": "execute_result",
          "data": {
            "text/plain": [
              "np.float64(0.0)"
            ]
          },
          "metadata": {},
          "execution_count": 6
        }
      ]
    },
    {
      "cell_type": "code",
      "source": [
        "LA.det(B)"
      ],
      "metadata": {
        "id": "1LWUbaiXlCe1",
        "outputId": "e2a7e836-c8fe-4948-dfd6-12d3f482b280",
        "colab": {
          "base_uri": "https://localhost:8080/"
        }
      },
      "execution_count": 7,
      "outputs": [
        {
          "output_type": "execute_result",
          "data": {
            "text/plain": [
              "np.float64(0.0)"
            ]
          },
          "metadata": {},
          "execution_count": 7
        }
      ]
    },
    {
      "cell_type": "code",
      "source": [
        "LA.det(A+B)"
      ],
      "metadata": {
        "id": "UxdrC14xlFdh",
        "outputId": "255ab794-aaa8-4800-fde8-821ea1ce2325",
        "colab": {
          "base_uri": "https://localhost:8080/"
        }
      },
      "execution_count": 8,
      "outputs": [
        {
          "output_type": "execute_result",
          "data": {
            "text/plain": [
              "np.float64(1.0)"
            ]
          },
          "metadata": {},
          "execution_count": 8
        }
      ]
    },
    {
      "cell_type": "code",
      "source": [
        "import sympy as sp\n",
        "\n",
        "x, y = sp.symbols('x y')\n",
        "A = sp.Matrix([[x, y],[y, x]])\n",
        "\n",
        "x1, y1 = sp.symbols('x1 y1')\n",
        "A1 = sp.Matrix([[x1, y1],[y1, x1]])\n",
        "\n",
        "x2, y2 = sp.symbols('x2 y2')\n",
        "A2 = sp.Matrix([[x2, y2],[y2, x2]])\n",
        "\n",
        "print(A1.T)"
      ],
      "metadata": {
        "id": "Ibtcd4oLlIMR",
        "outputId": "c8e79c19-906e-4848-bdb2-39f414f196b2",
        "colab": {
          "base_uri": "https://localhost:8080/"
        }
      },
      "execution_count": 9,
      "outputs": [
        {
          "output_type": "stream",
          "name": "stdout",
          "text": [
            "Matrix([[x1, y1], [y1, x1]])\n"
          ]
        }
      ]
    },
    {
      "cell_type": "code",
      "source": [
        " (A1+A2).T"
      ],
      "metadata": {
        "id": "jhlmUG9-lP5M",
        "outputId": "d2e6a41c-a3b9-492c-bd07-21155960d44b",
        "colab": {
          "base_uri": "https://localhost:8080/",
          "height": 58
        }
      },
      "execution_count": 10,
      "outputs": [
        {
          "output_type": "execute_result",
          "data": {
            "text/plain": [
              "Matrix([\n",
              "[x1 + x2, y1 + y2],\n",
              "[y1 + y2, x1 + x2]])"
            ],
            "text/latex": "$\\displaystyle \\left[\\begin{matrix}x_{1} + x_{2} & y_{1} + y_{2}\\\\y_{1} + y_{2} & x_{1} + x_{2}\\end{matrix}\\right]$"
          },
          "metadata": {},
          "execution_count": 10
        }
      ]
    },
    {
      "cell_type": "code",
      "source": [
        "((A1+A2).T).equals(A1+A2)"
      ],
      "metadata": {
        "id": "vImWOnTylTZZ",
        "outputId": "294b02c4-8735-4b94-8fb8-b496e3f25606",
        "colab": {
          "base_uri": "https://localhost:8080/"
        }
      },
      "execution_count": 11,
      "outputs": [
        {
          "output_type": "execute_result",
          "data": {
            "text/plain": [
              "True"
            ]
          },
          "metadata": {},
          "execution_count": 11
        }
      ]
    },
    {
      "cell_type": "code",
      "source": [
        "import sympy as sp\n",
        "\n",
        "x, y = sp.symbols('x y')\n",
        "A = sp.Matrix([[x, y],[y, x]])\n",
        "\n",
        "c = sp.symbols('c')\n",
        "\n",
        "print(c * A)"
      ],
      "metadata": {
        "id": "qVSRTpaXlWw9",
        "outputId": "90c505c9-5e43-4cc3-8c44-0301c2606141",
        "colab": {
          "base_uri": "https://localhost:8080/"
        }
      },
      "execution_count": 12,
      "outputs": [
        {
          "output_type": "stream",
          "name": "stdout",
          "text": [
            "Matrix([[c*x, c*y], [c*y, c*x]])\n"
          ]
        }
      ]
    },
    {
      "cell_type": "code",
      "source": [
        "((c*A).T).equals(c*A)"
      ],
      "metadata": {
        "id": "QlPuASAulcET",
        "outputId": "f16e77a8-55a7-4ace-990d-a75ecdea77bf",
        "colab": {
          "base_uri": "https://localhost:8080/"
        }
      },
      "execution_count": 13,
      "outputs": [
        {
          "output_type": "execute_result",
          "data": {
            "text/plain": [
              "True"
            ]
          },
          "metadata": {},
          "execution_count": 13
        }
      ]
    },
    {
      "cell_type": "code",
      "source": [
        "import sympy as sp\n",
        "\n",
        "c1, c2 = sp.symbols('c1 c2')\n",
        "u1, u2 = sp.symbols('u1 u2')\n",
        "\n",
        "sp.solve([c1 + c2 - u1, c1 - c2 - u2])"
      ],
      "metadata": {
        "id": "lAwjcz96lfAj",
        "outputId": "3598a461-4aa3-446f-8848-cecfa4a37af3",
        "colab": {
          "base_uri": "https://localhost:8080/"
        }
      },
      "execution_count": 14,
      "outputs": [
        {
          "output_type": "execute_result",
          "data": {
            "text/plain": [
              "{c1: u1/2 + u2/2, c2: u1/2 - u2/2}"
            ]
          },
          "metadata": {},
          "execution_count": 14
        }
      ]
    },
    {
      "cell_type": "code",
      "source": [
        "import sympy as sp\n",
        "\n",
        "c1, c2 = sp.symbols('c1 c2')\n",
        "u1 = 0\n",
        "u2 = 0\n",
        "\n",
        "solution = sp.solve([c1 + c2 - u1, c1 - c2 - u2], (c1, c2))\n",
        "print(solution)"
      ],
      "metadata": {
        "id": "3MxewWQMlmdV",
        "outputId": "6c8fd432-483c-4165-a999-f341015bb463",
        "colab": {
          "base_uri": "https://localhost:8080/"
        }
      },
      "execution_count": 15,
      "outputs": [
        {
          "output_type": "stream",
          "name": "stdout",
          "text": [
            "{c1: 0, c2: 0}\n"
          ]
        }
      ]
    },
    {
      "cell_type": "code",
      "source": [
        "import numpy as np\n",
        "\n",
        "P = np.array([[0,0,3,3,1,1,2,2,1,1],[0,5,5,4,4,3,3,2,2,0]])\n",
        "vecdelta = np.array([4,2])\n",
        "\n",
        "P_caua = (P.T + vecdelta).T\n",
        "\n",
        "print(P_caua)"
      ],
      "metadata": {
        "id": "hjKhkjnRlsVU",
        "outputId": "b0b962ba-2ae3-45f8-900f-7cfc6de7b106",
        "colab": {
          "base_uri": "https://localhost:8080/"
        }
      },
      "execution_count": 16,
      "outputs": [
        {
          "output_type": "stream",
          "name": "stdout",
          "text": [
            "[[4 4 7 7 5 5 6 6 5 5]\n",
            " [2 7 7 6 6 5 5 4 4 2]]\n"
          ]
        }
      ]
    },
    {
      "cell_type": "code",
      "source": [
        "import numpy as np\n",
        "\n",
        "P = np.array([[0,0,3,3,1,1,2,2,1,1],[0,5,5,4,4,3,3,2,2,0]])\n",
        "vecdelta = np.array([4,-2])\n",
        "matran_biendoi = np.array([[1.0, 0.0],\n",
        "                           [ 0.0, 2.0]])\n",
        "\n",
        "P_caub = (P.T @ matran_biendoi + vecdelta).T\n",
        "\n",
        "print(P_caub)"
      ],
      "metadata": {
        "id": "NbglvBO_lx8d",
        "outputId": "f95578c1-a817-461a-e1ea-a561ca4025bc",
        "colab": {
          "base_uri": "https://localhost:8080/"
        }
      },
      "execution_count": 17,
      "outputs": [
        {
          "output_type": "stream",
          "name": "stdout",
          "text": [
            "[[ 4.  4.  7.  7.  5.  5.  6.  6.  5.  5.]\n",
            " [-2.  8.  8.  6.  6.  4.  4.  2.  2. -2.]]\n"
          ]
        }
      ]
    },
    {
      "cell_type": "code",
      "source": [
        "import sympy as sp\n",
        "from sympy import lambdify\n",
        "\n",
        "x1, x2, x3 = sp.symbols('x1 x2 x3')\n",
        "bieuthuc1 = x1 - x2 + x3\n",
        "f1 = lambdify([x1, x2, x3], bieuthuc1, 'numpy')\n",
        "\n",
        "a, b, c = sp.symbols('a b c')\n",
        "d, e, f = sp.symbols('d e f')\n",
        "\n",
        "result_f1_abc = f1(a, b, c)\n",
        "\n",
        "print(result_f1_abc)"
      ],
      "metadata": {
        "id": "75AHXuoTl28y",
        "outputId": "da5d0b9d-1779-45f2-8d5c-fc4e37326950",
        "colab": {
          "base_uri": "https://localhost:8080/"
        }
      },
      "execution_count": 18,
      "outputs": [
        {
          "output_type": "stream",
          "name": "stdout",
          "text": [
            "a - b + c\n"
          ]
        }
      ]
    },
    {
      "cell_type": "code",
      "source": [
        "f1(d, e, f)"
      ],
      "metadata": {
        "id": "lDo-gpWomJ_4",
        "outputId": "699f6bae-bd4f-424c-ca9b-09e047b5607b",
        "colab": {
          "base_uri": "https://localhost:8080/",
          "height": 38
        }
      },
      "execution_count": 19,
      "outputs": [
        {
          "output_type": "execute_result",
          "data": {
            "text/plain": [
              "d - e + f"
            ],
            "text/latex": "$\\displaystyle d - e + f$"
          },
          "metadata": {},
          "execution_count": 19
        }
      ]
    },
    {
      "cell_type": "code",
      "source": [
        "f1(a+d, b+e, c+f)"
      ],
      "metadata": {
        "id": "MLs7H7pamM5-",
        "outputId": "7b2fad26-a59f-4a19-8de6-10ea8c3f35fc",
        "colab": {
          "base_uri": "https://localhost:8080/",
          "height": 38
        }
      },
      "execution_count": 20,
      "outputs": [
        {
          "output_type": "execute_result",
          "data": {
            "text/plain": [
              "a - b + c + d - e + f"
            ],
            "text/latex": "$\\displaystyle a - b + c + d - e + f$"
          },
          "metadata": {},
          "execution_count": 20
        }
      ]
    },
    {
      "cell_type": "code",
      "source": [
        "f1(a,b,c) + f1(d,e,f) == f1(a+d, b+e, c+f)"
      ],
      "metadata": {
        "id": "Oj6P7H3FmPTb",
        "outputId": "1d176bc8-95c8-49ff-a3b6-ac6f7e4eb15f",
        "colab": {
          "base_uri": "https://localhost:8080/"
        }
      },
      "execution_count": 21,
      "outputs": [
        {
          "output_type": "execute_result",
          "data": {
            "text/plain": [
              "True"
            ]
          },
          "metadata": {},
          "execution_count": 21
        }
      ]
    },
    {
      "cell_type": "code",
      "source": [
        "(f1(a,b,c) + f1(d,e,f)).equals( f1(a+d, b+e, c+f))"
      ],
      "metadata": {
        "id": "qnWhheuFmR6F",
        "outputId": "0b01607e-85e1-4145-e723-cefd79fff885",
        "colab": {
          "base_uri": "https://localhost:8080/"
        }
      },
      "execution_count": 22,
      "outputs": [
        {
          "output_type": "execute_result",
          "data": {
            "text/plain": [
              "True"
            ]
          },
          "metadata": {},
          "execution_count": 22
        }
      ]
    },
    {
      "cell_type": "code",
      "source": [
        "import sympy as sp\n",
        "from sympy import lambdify\n",
        "\n",
        "# Define symbolic variables\n",
        "x1, x2, x3 = sp.symbols('x1 x2 x3')\n",
        "a, b, c = sp.symbols('a b c')\n",
        "d, e, f = sp.symbols('d e f')\n",
        "q = sp.symbols('q')\n",
        "\n",
        "# Define the expression and lambdify it\n",
        "bieuthuc1 = x1 - x2 + x3\n",
        "f1 = lambdify([x1, x2, x3], bieuthuc1, 'sympy') # Use 'sympy' for symbolic evaluation\n",
        "\n",
        "# Test the linearity property\n",
        "# Left-hand side of the equation\n",
        "lhs = q * f1(a, b, c) + f1(d, e, f)\n",
        "\n",
        "# Right-hand side of the equation\n",
        "rhs = f1(q * a + d, q * b + e, q * c + f).expand()\n",
        "\n",
        "# Check if both sides are equal\n",
        "print(lhs.equals(rhs))"
      ],
      "metadata": {
        "id": "78E7vIYvmX4E",
        "outputId": "52cae6ff-a161-4f9c-9e08-842a77abceed",
        "colab": {
          "base_uri": "https://localhost:8080/"
        }
      },
      "execution_count": 23,
      "outputs": [
        {
          "output_type": "stream",
          "name": "stdout",
          "text": [
            "True\n"
          ]
        }
      ]
    },
    {
      "cell_type": "code",
      "source": [
        "import sympy as sp\n",
        "from sympy import lambdify\n",
        "\n",
        "x1, x2, x3 = sp.symbols('x1 x2 x3')\n",
        "a, b, c = sp.symbols('a b c')\n",
        "d, e, f = sp.symbols('d e f')\n",
        "q = sp.symbols('q')\n",
        "\n",
        "bieuthuc2 = 2 * x2 + 3 * x3\n",
        "f2 = lambdify([x1, x2, x3], bieuthuc2, 'sympy')\n",
        "\n",
        "lhs_f2 = q * f2(a, b, c) + f2(d, e, f)\n",
        "rhs_f2 = f2(q * a + d, q * b + e, q * c + f).expand()\n",
        "\n",
        "print(lhs_f2.equals(rhs_f2))"
      ],
      "metadata": {
        "id": "C3yVb8wsmgzh",
        "outputId": "fc0a2282-34f7-4902-8826-b9febbc690e4",
        "colab": {
          "base_uri": "https://localhost:8080/"
        }
      },
      "execution_count": 24,
      "outputs": [
        {
          "output_type": "stream",
          "name": "stdout",
          "text": [
            "True\n"
          ]
        }
      ]
    },
    {
      "cell_type": "code",
      "source": [
        "import sympy as sp\n",
        "\n",
        "a, b = sp.symbols('a b')\n",
        "x, y = sp.symbols('x y')\n",
        "\n",
        "# Solve the system of equations:\n",
        "# a + 3b = x\n",
        "# 2a + 5b = y\n",
        "solution = sp.solve([a + 3 * b - x, 2 * a + 5 * b - y], [a, b])\n",
        "\n",
        "print(solution)"
      ],
      "metadata": {
        "id": "hgX40Rnxmxax",
        "outputId": "eb0a8de3-9ad4-42c9-b069-0d6793e08626",
        "colab": {
          "base_uri": "https://localhost:8080/"
        }
      },
      "execution_count": 25,
      "outputs": [
        {
          "output_type": "stream",
          "name": "stdout",
          "text": [
            "{a: -5*x + 3*y, b: 2*x - y}\n"
          ]
        }
      ]
    },
    {
      "cell_type": "code",
      "source": [
        "import numpy as np\n",
        "import sympy as sp\n",
        "\n",
        "a, b = sp.symbols('a b')\n",
        "\n",
        "fu1 = np.array([1, 1, 2])\n",
        "fu2 = np.array([4, 2, 1])\n",
        "\n",
        "fu = a * fu1 + b * fu2\n",
        "\n",
        "print(fu)"
      ],
      "metadata": {
        "id": "cckbD7DBm37V",
        "outputId": "20dd3d21-3a96-459c-8439-8f642c3f1ad9",
        "colab": {
          "base_uri": "https://localhost:8080/"
        }
      },
      "execution_count": 26,
      "outputs": [
        {
          "output_type": "stream",
          "name": "stdout",
          "text": [
            "[a + 4*b a + 2*b 2*a + b]\n"
          ]
        }
      ]
    },
    {
      "cell_type": "code",
      "source": [
        "import numpy as np\n",
        "import sympy as sp\n",
        "\n",
        "a, b, x, y = sp.symbols('a b x y')\n",
        "\n",
        "fu1 = np.array([1, 1, 2])\n",
        "fu2 = np.array([4, 2, 1])\n",
        "\n",
        "fu = a.subs(a, -5*x + 3*y) * fu1 + b.subs(b, 2*x - y) * fu2\n",
        "\n",
        "print(fu)"
      ],
      "metadata": {
        "id": "429HOCYim_np",
        "outputId": "675f5107-1246-42b7-9ad8-2f4c834df141",
        "colab": {
          "base_uri": "https://localhost:8080/"
        }
      },
      "execution_count": 27,
      "outputs": [
        {
          "output_type": "stream",
          "name": "stdout",
          "text": [
            "[3*x - y -x + y -8*x + 5*y]\n"
          ]
        }
      ]
    },
    {
      "cell_type": "code",
      "source": [
        "import sympy as sp\n",
        "\n",
        "def g(x_sym, y_sym, z_sym):\n",
        "    return sp.Matrix([x_sym + y_sym + z_sym, 0])\n",
        "\n",
        "x1, y1, z1 = sp.symbols('x1 y1 z1')\n",
        "x2, y2, z2 = sp.symbols('x2 y2 z2')\n",
        "\n",
        "u_vec = (x1, y1, z1)\n",
        "v_vec = (x2, y2, z2)\n",
        "\n",
        "g_u = g(u_vec[0], u_vec[1], u_vec[2])\n",
        "g_v = g(v_vec[0], v_vec[1], v_vec[2])\n",
        "\n",
        "sum_g_uv = g_u + g_v\n",
        "print(\"g(u) + g(v) =\\n\", sum_g_uv)\n",
        "\n",
        "u_plus_v = (u_vec[0] + v_vec[0], u_vec[1] + v_vec[1], u_vec[2] + v_vec[2])\n",
        "\n",
        "g_u_plus_v = g(u_plus_v[0], u_plus_v[1], u_plus_v[2])\n",
        "print(\"\\ng(u + v) =\\n\", g_u_plus_v)\n",
        "\n",
        "is_additive = (sum_g_uv.simplify() == g_u_plus_v.simplify())\n",
        "print(\"\\nTính chất cộng (g(u + v) == g(u) + g(v)): \", is_additive)\n",
        "\n",
        "c = sp.symbols('c')\n",
        "\n",
        "c_u_vec = (c * x1, c * y1, c * z1)\n",
        "g_c_u = g(c_u_vec[0], c_u_vec[1], c_u_vec[2])\n",
        "print(\"\\ng(c * u) =\\n\", g_c_u)\n",
        "\n",
        "c_times_g_u = c * g(x1, y1, z1)\n",
        "print(\"\\nc * g(u) =\\n\", c_times_g_u)\n",
        "\n",
        "is_homogeneous = (g_c_u.simplify() == c_times_g_u.simplify())\n",
        "print(\"\\nTính chất nhân với vô hướng (g(c*u) == c*g(u)): \", is_homogeneous)\n",
        "\n",
        "if is_additive and is_homogeneous:\n",
        "    print(\"\\nKết luận: Ánh xạ g(x, y, z) = (x + y + z, 0) LÀ một ánh xạ tuyến tính.\")\n",
        "else:\n",
        "    print"
      ],
      "metadata": {
        "id": "kFLq_d7SnGXe",
        "outputId": "403fea6d-8848-4ecc-aeef-100456b9b755",
        "colab": {
          "base_uri": "https://localhost:8080/"
        }
      },
      "execution_count": 28,
      "outputs": [
        {
          "output_type": "stream",
          "name": "stdout",
          "text": [
            "g(u) + g(v) =\n",
            " Matrix([[x1 + x2 + y1 + y2 + z1 + z2], [0]])\n",
            "\n",
            "g(u + v) =\n",
            " Matrix([[x1 + x2 + y1 + y2 + z1 + z2], [0]])\n",
            "\n",
            "Tính chất cộng (g(u + v) == g(u) + g(v)):  True\n",
            "\n",
            "g(c * u) =\n",
            " Matrix([[c*x1 + c*y1 + c*z1], [0]])\n",
            "\n",
            "c * g(u) =\n",
            " Matrix([[c*(x1 + y1 + z1)], [0]])\n",
            "\n",
            "Tính chất nhân với vô hướng (g(c*u) == c*g(u)):  True\n",
            "\n",
            "Kết luận: Ánh xạ g(x, y, z) = (x + y + z, 0) LÀ một ánh xạ tuyến tính.\n"
          ]
        }
      ]
    },
    {
      "cell_type": "code",
      "source": [
        "import numpy as np\n",
        "\n",
        "transformation_matrix = np.array([[0, 1],\n",
        "                                  [1, -1]])\n",
        "\n",
        "original_square_points = np.array([[0, 1, 1, 0, 0],\n",
        "                                   [0, 0, 1, 1, 0]])\n",
        "\n",
        "transformed_points = transformation_matrix @ original_square_points\n",
        "\n",
        "F_point = np.array([[0.5],\n",
        "                    [0.5]])\n",
        "\n",
        "transformed_F = transformation_matrix @ F_point\n",
        "\n",
        "print(\"Ma trận biến đổi:\\n\", transformation_matrix)\n",
        "print(\"\\nCác điểm của hình đã biến đổi:\\n\", transformed_points)\n",
        "print(f\"\\nĐiểm F ban đầu: ({F_point[0,0]}, {F_point[1,0]})\")\n",
        "print(f\"Điểm F sau biến đổi: ({transformed_F[0,0]}, {transformed_F[1,0]})\")"
      ],
      "metadata": {
        "id": "SKEm_zH2nf2x",
        "outputId": "36f1e329-6e8c-4e45-eb1b-76c8076c93e9",
        "colab": {
          "base_uri": "https://localhost:8080/"
        }
      },
      "execution_count": 29,
      "outputs": [
        {
          "output_type": "stream",
          "name": "stdout",
          "text": [
            "Ma trận biến đổi:\n",
            " [[ 0  1]\n",
            " [ 1 -1]]\n",
            "\n",
            "Các điểm của hình đã biến đổi:\n",
            " [[ 0  0  1  1  0]\n",
            " [ 0  1  0 -1  0]]\n",
            "\n",
            "Điểm F ban đầu: (0.5, 0.5)\n",
            "Điểm F sau biến đổi: (0.5, 0.0)\n"
          ]
        }
      ]
    },
    {
      "cell_type": "code",
      "source": [
        "import sympy as sp\n",
        "\n",
        "def T_mapping(x, y):\n",
        "    return sp.Matrix([x - y, x + 2*y])\n",
        "\n",
        "# Kiểm tra tính chất cộng\n",
        "u1, u2, w1, w2 = sp.symbols('u1 u2 w1 w2')\n",
        "lhs_add = T_mapping(u1 + w1, u2 + w2)\n",
        "rhs_add = T_mapping(u1, u2) + T_mapping(w1, w2)\n",
        "is_additive = lhs_add.equals(rhs_add)\n",
        "\n",
        "# Kiểm tra tính chất nhân với vô hướng\n",
        "c = sp.symbols('c')\n",
        "lhs_hom = T_mapping(c * u1, c * u2)\n",
        "rhs_hom = c * T_mapping(u1, u2)\n",
        "is_homogeneous = lhs_hom.equals(rhs_hom)\n",
        "\n",
        "# Kết luận\n",
        "if is_additive and is_homogeneous:\n",
        "    print(\"Ánh xạ T(v1, v2) = (v1 - v2, v1 + 2v2) LÀ một ánh xạ tuyến tính.\")\n",
        "else:\n",
        "    print(\"Ánh xạ T(v1, v2) = (v1 - v2, v1 + 2v2) KHÔNG phải là một ánh xạ tuyến tính.\")"
      ],
      "metadata": {
        "id": "juijap-dn3wm",
        "outputId": "a589943b-10c9-4cef-f63b-911a4600e7d1",
        "colab": {
          "base_uri": "https://localhost:8080/"
        }
      },
      "execution_count": 30,
      "outputs": [
        {
          "output_type": "stream",
          "name": "stdout",
          "text": [
            "Ánh xạ T(v1, v2) = (v1 - v2, v1 + 2v2) LÀ một ánh xạ tuyến tính.\n"
          ]
        }
      ]
    },
    {
      "cell_type": "code",
      "source": [
        "import sympy as sp\n",
        "\n",
        "a, b, c, d, e, f = sp.symbols('a b c d e f')\n",
        "x, y = sp.symbols('x y')\n",
        "x_prime, y_prime = sp.symbols(\"x' y'\")\n",
        "theta = sp.symbols('theta')\n",
        "\n",
        "conic_general = a*x**2 + b*x*y + c*y**2 + d*x + e*y + f\n",
        "\n",
        "A_matrix = sp.Matrix([[a, b/2], [b/2, c]])\n",
        "X_vector = sp.Matrix([[x], [y]])\n",
        "\n",
        "matrix_form_conic = (X_vector.T @ A_matrix @ X_vector)[0,0] + (sp.Matrix([[d, e]]) @ X_vector)[0,0] + f\n",
        "\n",
        "print(\"Phương trình conic ban đầu (dạng tổng quát):\")\n",
        "print(conic_general)\n",
        "print(\"\\nPhương trình conic dưới dạng ma trận (X^T A X + [d e] X + f):\\n\", matrix_form_conic)\n",
        "\n",
        "print(\"\\n--- Phân tích Góc Quay ---\")\n",
        "\n",
        "eigenvalues_A = A_matrix.eigenvals()\n",
        "print(f\"Các giá trị riêng của A (λ1, λ2): {list(eigenvalues_A.keys())}\")\n",
        "\n",
        "eigenvectors_A_info = A_matrix.eigenvects()\n",
        "\n",
        "try:\n",
        "    v1_normalized = eigenvectors_A_info[0][2][0].normalize()\n",
        "    if len(eigenvectors_A_info) > 1:\n",
        "        v2_normalized = eigenvectors_A_info[1][2][0].normalize()\n",
        "    else:\n",
        "        v2_normalized = sp.Matrix([-v1_normalized[1], v1_normalized[0]]).normalize()\n",
        "    P_matrix = sp.Matrix.hstack(v1_normalized, v2_normalized)\n",
        "    print(\"\\nMa trận P (ma trận quay từ các vector riêng chuẩn hóa):\\n\", P_matrix)\n",
        "except Exception:\n",
        "    P_matrix = sp.Matrix([[sp.cos(theta), -sp.sin(theta)], [sp.sin(theta), sp.cos(theta)]])\n",
        "    print(\"\\nMa trận P (dạng lý thuyết nếu không thể tự xây dựng):\\n\", P_matrix)\n",
        "\n",
        "lambda1_val = list(eigenvalues_A.keys())[0] if eigenvalues_A else sp.symbols('lambda1')\n",
        "lambda2_val = list(eigenvalues_A.keys())[1] if len(eigenvalues_A) > 1 else sp.symbols('lambda2')\n",
        "\n",
        "rotated_quadratic_part = lambda1_val * x_prime**2 + lambda2_val * y_prime**2\n",
        "\n",
        "print(f\"\\nDạng bậc hai sau khi quay trục: {rotated_quadratic_part}\")"
      ],
      "metadata": {
        "id": "nnSQ0sGWoGnW",
        "outputId": "44d28468-9c6f-4b4c-e7fd-b634e6608835",
        "colab": {
          "base_uri": "https://localhost:8080/"
        }
      },
      "execution_count": 31,
      "outputs": [
        {
          "output_type": "stream",
          "name": "stdout",
          "text": [
            "Phương trình conic ban đầu (dạng tổng quát):\n",
            "a*x**2 + b*x*y + c*y**2 + d*x + e*y + f\n",
            "\n",
            "Phương trình conic dưới dạng ma trận (X^T A X + [d e] X + f):\n",
            " d*x + e*y + f + x*(a*x + b*y/2) + y*(b*x/2 + c*y)\n",
            "\n",
            "--- Phân tích Góc Quay ---\n",
            "Các giá trị riêng của A (λ1, λ2): [a/2 + c/2 - sqrt(a**2 - 2*a*c + b**2 + c**2)/2, a/2 + c/2 + sqrt(a**2 - 2*a*c + b**2 + c**2)/2]\n",
            "\n",
            "Ma trận P (dạng lý thuyết nếu không thể tự xây dựng):\n",
            " Matrix([[cos(theta), -sin(theta)], [sin(theta), cos(theta)]])\n",
            "\n",
            "Dạng bậc hai sau khi quay trục: x'**2*(a/2 + c/2 - sqrt(a**2 - 2*a*c + b**2 + c**2)/2) + y'**2*(a/2 + c/2 + sqrt(a**2 - 2*a*c + b**2 + c**2)/2)\n"
          ]
        }
      ]
    }
  ],
  "metadata": {
    "colab": {
      "name": "Welcome To Colab",
      "toc_visible": true,
      "provenance": []
    },
    "kernelspec": {
      "display_name": "Python 3",
      "name": "python3"
    }
  },
  "nbformat": 4,
  "nbformat_minor": 0
}