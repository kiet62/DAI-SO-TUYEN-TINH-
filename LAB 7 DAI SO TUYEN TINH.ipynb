{
  "cells": [
    {
      "cell_type": "code",
      "source": [
        "import numpy as np\n",
        "signals = np.array([[1, 2], [3, 4], [10, 0]])\n",
        "sample = np.array([3, -1])\n",
        "np.inner(signals, sample)\n"
      ],
      "metadata": {
        "id": "XKwVIPQ-gpqo",
        "outputId": "719b40af-640f-49d7-eea4-4f0aff222919",
        "colab": {
          "base_uri": "https://localhost:8080/"
        }
      },
      "execution_count": 1,
      "outputs": [
        {
          "output_type": "execute_result",
          "data": {
            "text/plain": [
              "array([ 1,  5, 30])"
            ]
          },
          "metadata": {},
          "execution_count": 1
        }
      ]
    },
    {
      "cell_type": "code",
      "source": [
        "import numpy as np\n",
        "A = np.array([0,0,-1,2,3,-1,0,1,-1,-1])\n",
        "search_vector = np.array([0,1,-1])\n",
        "len(A), len(search_vector)\n"
      ],
      "metadata": {
        "id": "TXmh4439g2_H",
        "outputId": "f66b29d5-d82c-472f-f73b-60b6719693f3",
        "colab": {
          "base_uri": "https://localhost:8080/"
        }
      },
      "execution_count": 2,
      "outputs": [
        {
          "output_type": "execute_result",
          "data": {
            "text/plain": [
              "(10, 3)"
            ]
          },
          "metadata": {},
          "execution_count": 2
        }
      ]
    },
    {
      "cell_type": "code",
      "source": [
        "import numpy as np\n",
        "\n",
        "A = np.array([0,0,-1,2,3,-1,0,1,-1,-1])\n",
        "search_vector = np.array([0,1,-1])\n",
        "\n",
        "B = np.array([1])\n",
        "B = np.resize(B, (len(A) - len(search_vector) + 1, len(search_vector)))\n",
        "B = np.asmatrix(B)\n",
        "\n",
        "for i in range(len(A) - len(search_vector) + 1):  # số dòng = 8\n",
        "    for j in range(len(search_vector)):          # số cột = 3\n",
        "        print(f'i={i}, j={j}')\n"
      ],
      "metadata": {
        "id": "aqYe9FtjhFlU",
        "outputId": "2fbd333b-cf15-47cc-a85c-cdd3b4158dc5",
        "colab": {
          "base_uri": "https://localhost:8080/"
        }
      },
      "execution_count": 3,
      "outputs": [
        {
          "output_type": "stream",
          "name": "stdout",
          "text": [
            "i=0, j=0\n",
            "i=0, j=1\n",
            "i=0, j=2\n",
            "i=1, j=0\n",
            "i=1, j=1\n",
            "i=1, j=2\n",
            "i=2, j=0\n",
            "i=2, j=1\n",
            "i=2, j=2\n",
            "i=3, j=0\n",
            "i=3, j=1\n",
            "i=3, j=2\n",
            "i=4, j=0\n",
            "i=4, j=1\n",
            "i=4, j=2\n",
            "i=5, j=0\n",
            "i=5, j=1\n",
            "i=5, j=2\n",
            "i=6, j=0\n",
            "i=6, j=1\n",
            "i=6, j=2\n",
            "i=7, j=0\n",
            "i=7, j=1\n",
            "i=7, j=2\n"
          ]
        }
      ]
    },
    {
      "cell_type": "code",
      "source": [
        "import numpy as np\n",
        "\n",
        "A = np.array([0,0,-1,2,3,-1,0,1,-1,-1])\n",
        "search_vector = np.array([0,1,-1])\n",
        "\n",
        "B = np.array([1])\n",
        "B = np.resize(B, (len(A) - len(search_vector) + 1, len(search_vector)))\n",
        "B = np.asmatrix(B)\n",
        "\n",
        "for i in range(len(A) - len(search_vector) + 1):\n",
        "    for j in range(len(search_vector)):\n",
        "        B[i, j] = A[i + j]\n",
        "\n",
        "C = np.inner(B, search_vector)\n",
        "\n",
        "for i in range(len(A) - len(search_vector) + 1):\n",
        "    if C[0, i] == np.inner(search_vector, search_vector):\n",
        "        print(i, B[i])\n"
      ],
      "metadata": {
        "id": "VURayJXkhN9t",
        "outputId": "3d4b9a4f-0cb6-4353-fb3d-522152ef83c6",
        "colab": {
          "base_uri": "https://localhost:8080/"
        }
      },
      "execution_count": 4,
      "outputs": [
        {
          "output_type": "stream",
          "name": "stdout",
          "text": [
            "6 [[ 0  1 -1]]\n"
          ]
        }
      ]
    },
    {
      "cell_type": "code",
      "source": [
        "import numpy as np\n",
        "\n",
        "A = np.array([\n",
        "    [0,    0,    1.0/2, 1.0/2],\n",
        "    [1.0/3, 0,   0,     0],\n",
        "    [1.0/3, 0,   0,     1.0/2],\n",
        "    [1.0/3, 1.0, 1.0/2, 0]\n",
        "])\n",
        "\n",
        "x = np.array([1, 1, 1, 1])\n",
        "x = np.dot(A, x)\n",
        "\n",
        "print(x)\n"
      ],
      "metadata": {
        "id": "mkDXElroiT1b",
        "outputId": "f1bd40ab-296c-41f3-9375-c45a4804bda1",
        "colab": {
          "base_uri": "https://localhost:8080/"
        }
      },
      "execution_count": 9,
      "outputs": [
        {
          "output_type": "stream",
          "name": "stdout",
          "text": [
            "[1.         0.33333333 0.83333333 1.83333333]\n"
          ]
        }
      ]
    },
    {
      "cell_type": "code",
      "source": [
        "import numpy as np\n",
        "\n",
        "A = np.array([\n",
        "    [0,    0,    1.0/2, 1.0/2],\n",
        "    [1.0/3, 0,   0,     0],\n",
        "    [1.0/3, 0,   0,     1.0/2],\n",
        "    [1.0/3, 1.0, 1.0/2, 0]\n",
        "])\n",
        "\n",
        "x = np.array([1.0, 1.0, 1.0, 1.0])\n",
        "\n",
        "for i in range(10):\n",
        "    x = np.dot(A, x)\n",
        "    print(i + 1, x)\n"
      ],
      "metadata": {
        "id": "eBtTlwIZinCI",
        "outputId": "a424d196-619e-4a8e-813a-56f498eb84f2",
        "colab": {
          "base_uri": "https://localhost:8080/"
        }
      },
      "execution_count": 10,
      "outputs": [
        {
          "output_type": "stream",
          "name": "stdout",
          "text": [
            "1 [1.         0.33333333 0.83333333 1.83333333]\n",
            "2 [1.33333333 0.33333333 1.25       1.08333333]\n",
            "3 [1.16666667 0.44444444 0.98611111 1.40277778]\n",
            "4 [1.19444444 0.38888889 1.09027778 1.32638889]\n",
            "5 [1.20833333 0.39814815 1.06134259 1.33217593]\n",
            "6 [1.19675926 0.40277778 1.06886574 1.33159722]\n",
            "7 [1.20023148 0.39891975 1.06471836 1.3361304 ]\n",
            "8 [1.20042438 0.40007716 1.06814236 1.3313561 ]\n",
            "9 [1.19974923 0.40014146 1.06581951 1.3342898 ]\n",
            "10 [1.20005466 0.39991641 1.06706131 1.33296762]\n"
          ]
        }
      ]
    },
    {
      "cell_type": "code",
      "source": [
        "import numpy as np\n",
        "\n",
        "A = np.array([\n",
        "    [0,    0,    1.0/2, 0.0],\n",
        "    [1.0/3, 0,   0,     0],\n",
        "    [1.0/3, 0,   0,     0.0],\n",
        "    [1.0/3, 1.0, 1.0/2, 0]\n",
        "])\n",
        "\n",
        "x = np.array([2.26877604, 0.75444418, 1.91129784, 2.64190972])\n",
        "\n",
        "for i in range(5):\n",
        "    x = np.dot(A, x)\n",
        "    print(i + 1, x)\n"
      ],
      "metadata": {
        "id": "RixqtS95iwbs",
        "outputId": "42a2c5b3-feae-42d5-f140-2f38d7daa6bc",
        "colab": {
          "base_uri": "https://localhost:8080/"
        }
      },
      "execution_count": 11,
      "outputs": [
        {
          "output_type": "stream",
          "name": "stdout",
          "text": [
            "1 [0.95564892 0.75625868 0.75625868 2.46635178]\n",
            "2 [0.37812934 0.31854964 0.31854964 1.45293766]\n",
            "3 [0.15927482 0.12604311 0.12604311 0.60386757]\n",
            "4 [0.06302156 0.05309161 0.05309161 0.24215628]\n",
            "5 [0.0265458  0.02100719 0.02100719 0.1006446 ]\n"
          ]
        }
      ]
    },
    {
      "cell_type": "code",
      "source": [
        "import numpy as np\n",
        "\n",
        "x = np.array([1.0, 1.0, 1.0, 1.0])\n",
        "\n",
        "A = np.array([\n",
        "    [0,    0,    1.0/2, 1.0/4],\n",
        "    [1.0/3, 0,   0,     1.0/4],\n",
        "    [1.0/3, 0,   0,     1.0/4],\n",
        "    [1.0/3, 1.0, 1.0/2, 1.0/4]\n",
        "])\n",
        "\n",
        "for i in range(7):\n",
        "    x = np.dot(A, x)\n",
        "    print(i + 1, x)\n"
      ],
      "metadata": {
        "id": "YQQT8whpi62u",
        "outputId": "5b559d3c-1c60-476a-9c01-a3e680d9a573",
        "colab": {
          "base_uri": "https://localhost:8080/"
        }
      },
      "execution_count": 12,
      "outputs": [
        {
          "output_type": "stream",
          "name": "stdout",
          "text": [
            "1 [0.75       0.58333333 0.58333333 2.08333333]\n",
            "2 [0.8125     0.77083333 0.77083333 1.64583333]\n",
            "3 [0.796875   0.68229167 0.68229167 1.83854167]\n",
            "4 [0.80078125 0.72526042 0.72526042 1.74869792]\n",
            "5 [0.79980469 0.70410156 0.70410156 1.79199219]\n",
            "6 [0.80004883 0.71459961 0.71459961 1.77075195]\n",
            "7 [0.79998779 0.70937093 0.70937093 1.78127035]\n"
          ]
        }
      ]
    },
    {
      "cell_type": "code",
      "source": [
        "import numpy as np\n",
        "\n",
        "d = 0.85\n",
        "N = 8\n",
        "x = np.array([1.0/N] * N)\n",
        "\n",
        "A = np.array([\n",
        "    [0.0,   0.0,   1/2.0, 0.0, 0.0, 0.0, 0.0, 0.0],\n",
        "    [1/3.0, 0.0,   1/2.0, 0.0, 0.0, 0.0, 0.0, 0.0],\n",
        "    [1/3.0, 0.0,   0.0,   0.0, 0.0, 0.0, 0.0, 0.0],\n",
        "    [1/3.0, 1/2.0, 1/2.0, 0.0, 0.0, 0.0, 0.0, 0.0],\n",
        "    [0.0,   1/2.0, 0.0,   0.0, 0.0, 1/2.0, 0.0, 0.0],\n",
        "    [0.0,   0.0,   0.0,   0.0, 0.0, 0.0,   1.0, 1/2.0],\n",
        "    [0.0,   0.0,   0.0,   1/2.0, 1.0, 0.0, 0.0, 1/2.0],\n",
        "    [0.0,   0.0,   0.0,   0.0, 0.0, 1/2.0, 0.0, 0.0]\n",
        "])\n",
        "\n",
        "M = d * A + ((1 - d) / N) * np.ones([N, N])\n",
        "\n",
        "for i in range(7):\n",
        "    x = np.dot(M, x)\n",
        "    print(i + 1, x)\n"
      ],
      "metadata": {
        "id": "c5YEuVZJjDDD",
        "outputId": "87342ab9-ed69-4de9-c3c7-ebe24e85326e",
        "colab": {
          "base_uri": "https://localhost:8080/"
        }
      },
      "execution_count": 13,
      "outputs": [
        {
          "output_type": "stream",
          "name": "stdout",
          "text": [
            "1 [0.071875   0.10729167 0.05416667 0.16041667 0.125      0.178125\n",
            " 0.23125    0.071875  ]\n",
            "2 [0.04177083 0.06213542 0.03911458 0.10773437 0.14005208 0.24585938\n",
            " 0.22372396 0.09445312]\n",
            "3 [0.03452702 0.04636209 0.02973839 0.07276964 0.14880111 0.24821126\n",
            " 0.22287728 0.12239355]\n",
            "4 [0.02999532 0.03977798 0.02713916 0.05948186 0.14255018 0.25881945\n",
            " 0.2267818  0.12284629]\n",
            "5 [0.02854774 0.03704642 0.02551228 0.05395206 0.14391751 0.26198781\n",
            " 0.21567072 0.12701187]\n",
            "6 [0.02759859 0.03568711 0.0248444  0.05143184 0.14384542 0.25405603\n",
            " 0.21599542 0.12810069]\n",
            "7 [0.02708811 0.03490771 0.02434884 0.05007473 0.13967008 0.25456814\n",
            " 0.21509917 0.12450305]\n"
          ]
        }
      ]
    },
    {
      "cell_type": "markdown",
      "source": [
        "bai tap ve nha\n"
      ],
      "metadata": {
        "id": "s5Lr7L3kjqjO"
      }
    },
    {
      "cell_type": "code",
      "source": [
        "import cv2\n",
        "import numpy as np\n",
        "from matplotlib import pyplot as plt\n",
        "from google.colab import files\n",
        "\n",
        "# Tải ảnh từ máy tính\n",
        "uploaded = files.upload()\n",
        "\n",
        "# Giả sử ảnh bạn vừa tải tên là 'image.jpg'\n",
        "image = cv2.imread('image.jpg', cv2.IMREAD_GRAYSCALE)\n",
        "\n",
        "# Kiểm tra ảnh có đọc được không\n",
        "if image is None:\n",
        "    print(\"Không thể đọc ảnh. Kiểm tra lại tên ảnh!\")\n",
        "else:\n",
        "    # Tạo kernel Gaussian 5x5 theo đề bài\n",
        "    gaussian_kernel = (1/256) * np.array([\n",
        "        [1, 4, 6, 4, 1],\n",
        "        [4, 16, 24, 16, 4],\n",
        "        [6, 24, 36, 24, 6],\n",
        "        [4, 16, 24, 16, 4],\n",
        "        [1, 4, 6, 4, 1]\n",
        "    ])\n",
        "\n",
        "    # Làm mờ ảnh\n",
        "    blurred_image = cv2.filter2D(image, -1, gaussian_kernel)\n",
        "\n",
        "    # Hiển thị ảnh\n",
        "    plt.subplot(1, 2, 1)\n",
        "    plt.title('Ảnh gốc')\n",
        "    plt.imshow(image, cmap='gray')\n",
        "\n",
        "    plt.subplot(1, 2, 2)\n",
        "    plt.title('Gaussian Blur')\n",
        "    plt.imshow(blurred_image, cmap='gray')\n",
        "    plt.show()"
      ],
      "metadata": {
        "id": "tn-_XlSAj5cC",
        "outputId": "b79c0527-faba-4bf2-a49c-504679e44963",
        "colab": {
          "base_uri": "https://localhost:8080/",
          "height": 38
        }
      },
      "execution_count": null,
      "outputs": [
        {
          "output_type": "display_data",
          "data": {
            "text/plain": [
              "<IPython.core.display.HTML object>"
            ],
            "text/html": [
              "\n",
              "     <input type=\"file\" id=\"files-e4968645-58ea-4244-b98d-07b0059bb5de\" name=\"files[]\" multiple disabled\n",
              "        style=\"border:none\" />\n",
              "     <output id=\"result-e4968645-58ea-4244-b98d-07b0059bb5de\">\n",
              "      Upload widget is only available when the cell has been executed in the\n",
              "      current browser session. Please rerun this cell to enable.\n",
              "      </output>\n",
              "      <script>// Copyright 2017 Google LLC\n",
              "//\n",
              "// Licensed under the Apache License, Version 2.0 (the \"License\");\n",
              "// you may not use this file except in compliance with the License.\n",
              "// You may obtain a copy of the License at\n",
              "//\n",
              "//      http://www.apache.org/licenses/LICENSE-2.0\n",
              "//\n",
              "// Unless required by applicable law or agreed to in writing, software\n",
              "// distributed under the License is distributed on an \"AS IS\" BASIS,\n",
              "// WITHOUT WARRANTIES OR CONDITIONS OF ANY KIND, either express or implied.\n",
              "// See the License for the specific language governing permissions and\n",
              "// limitations under the License.\n",
              "\n",
              "/**\n",
              " * @fileoverview Helpers for google.colab Python module.\n",
              " */\n",
              "(function(scope) {\n",
              "function span(text, styleAttributes = {}) {\n",
              "  const element = document.createElement('span');\n",
              "  element.textContent = text;\n",
              "  for (const key of Object.keys(styleAttributes)) {\n",
              "    element.style[key] = styleAttributes[key];\n",
              "  }\n",
              "  return element;\n",
              "}\n",
              "\n",
              "// Max number of bytes which will be uploaded at a time.\n",
              "const MAX_PAYLOAD_SIZE = 100 * 1024;\n",
              "\n",
              "function _uploadFiles(inputId, outputId) {\n",
              "  const steps = uploadFilesStep(inputId, outputId);\n",
              "  const outputElement = document.getElementById(outputId);\n",
              "  // Cache steps on the outputElement to make it available for the next call\n",
              "  // to uploadFilesContinue from Python.\n",
              "  outputElement.steps = steps;\n",
              "\n",
              "  return _uploadFilesContinue(outputId);\n",
              "}\n",
              "\n",
              "// This is roughly an async generator (not supported in the browser yet),\n",
              "// where there are multiple asynchronous steps and the Python side is going\n",
              "// to poll for completion of each step.\n",
              "// This uses a Promise to block the python side on completion of each step,\n",
              "// then passes the result of the previous step as the input to the next step.\n",
              "function _uploadFilesContinue(outputId) {\n",
              "  const outputElement = document.getElementById(outputId);\n",
              "  const steps = outputElement.steps;\n",
              "\n",
              "  const next = steps.next(outputElement.lastPromiseValue);\n",
              "  return Promise.resolve(next.value.promise).then((value) => {\n",
              "    // Cache the last promise value to make it available to the next\n",
              "    // step of the generator.\n",
              "    outputElement.lastPromiseValue = value;\n",
              "    return next.value.response;\n",
              "  });\n",
              "}\n",
              "\n",
              "/**\n",
              " * Generator function which is called between each async step of the upload\n",
              " * process.\n",
              " * @param {string} inputId Element ID of the input file picker element.\n",
              " * @param {string} outputId Element ID of the output display.\n",
              " * @return {!Iterable<!Object>} Iterable of next steps.\n",
              " */\n",
              "function* uploadFilesStep(inputId, outputId) {\n",
              "  const inputElement = document.getElementById(inputId);\n",
              "  inputElement.disabled = false;\n",
              "\n",
              "  const outputElement = document.getElementById(outputId);\n",
              "  outputElement.innerHTML = '';\n",
              "\n",
              "  const pickedPromise = new Promise((resolve) => {\n",
              "    inputElement.addEventListener('change', (e) => {\n",
              "      resolve(e.target.files);\n",
              "    });\n",
              "  });\n",
              "\n",
              "  const cancel = document.createElement('button');\n",
              "  inputElement.parentElement.appendChild(cancel);\n",
              "  cancel.textContent = 'Cancel upload';\n",
              "  const cancelPromise = new Promise((resolve) => {\n",
              "    cancel.onclick = () => {\n",
              "      resolve(null);\n",
              "    };\n",
              "  });\n",
              "\n",
              "  // Wait for the user to pick the files.\n",
              "  const files = yield {\n",
              "    promise: Promise.race([pickedPromise, cancelPromise]),\n",
              "    response: {\n",
              "      action: 'starting',\n",
              "    }\n",
              "  };\n",
              "\n",
              "  cancel.remove();\n",
              "\n",
              "  // Disable the input element since further picks are not allowed.\n",
              "  inputElement.disabled = true;\n",
              "\n",
              "  if (!files) {\n",
              "    return {\n",
              "      response: {\n",
              "        action: 'complete',\n",
              "      }\n",
              "    };\n",
              "  }\n",
              "\n",
              "  for (const file of files) {\n",
              "    const li = document.createElement('li');\n",
              "    li.append(span(file.name, {fontWeight: 'bold'}));\n",
              "    li.append(span(\n",
              "        `(${file.type || 'n/a'}) - ${file.size} bytes, ` +\n",
              "        `last modified: ${\n",
              "            file.lastModifiedDate ? file.lastModifiedDate.toLocaleDateString() :\n",
              "                                    'n/a'} - `));\n",
              "    const percent = span('0% done');\n",
              "    li.appendChild(percent);\n",
              "\n",
              "    outputElement.appendChild(li);\n",
              "\n",
              "    const fileDataPromise = new Promise((resolve) => {\n",
              "      const reader = new FileReader();\n",
              "      reader.onload = (e) => {\n",
              "        resolve(e.target.result);\n",
              "      };\n",
              "      reader.readAsArrayBuffer(file);\n",
              "    });\n",
              "    // Wait for the data to be ready.\n",
              "    let fileData = yield {\n",
              "      promise: fileDataPromise,\n",
              "      response: {\n",
              "        action: 'continue',\n",
              "      }\n",
              "    };\n",
              "\n",
              "    // Use a chunked sending to avoid message size limits. See b/62115660.\n",
              "    let position = 0;\n",
              "    do {\n",
              "      const length = Math.min(fileData.byteLength - position, MAX_PAYLOAD_SIZE);\n",
              "      const chunk = new Uint8Array(fileData, position, length);\n",
              "      position += length;\n",
              "\n",
              "      const base64 = btoa(String.fromCharCode.apply(null, chunk));\n",
              "      yield {\n",
              "        response: {\n",
              "          action: 'append',\n",
              "          file: file.name,\n",
              "          data: base64,\n",
              "        },\n",
              "      };\n",
              "\n",
              "      let percentDone = fileData.byteLength === 0 ?\n",
              "          100 :\n",
              "          Math.round((position / fileData.byteLength) * 100);\n",
              "      percent.textContent = `${percentDone}% done`;\n",
              "\n",
              "    } while (position < fileData.byteLength);\n",
              "  }\n",
              "\n",
              "  // All done.\n",
              "  yield {\n",
              "    response: {\n",
              "      action: 'complete',\n",
              "    }\n",
              "  };\n",
              "}\n",
              "\n",
              "scope.google = scope.google || {};\n",
              "scope.google.colab = scope.google.colab || {};\n",
              "scope.google.colab._files = {\n",
              "  _uploadFiles,\n",
              "  _uploadFilesContinue,\n",
              "};\n",
              "})(self);\n",
              "</script> "
            ]
          },
          "metadata": {}
        }
      ]
    },
    {
      "cell_type": "code",
      "source": [
        "import cv2\n",
        "import numpy as np\n",
        "from matplotlib import pyplot as plt\n",
        "from google.colab import files\n",
        "\n",
        "# Bước 1: Upload ảnh từ máy\n",
        "uploaded = files.upload()\n",
        "\n",
        "# Bước 2: Đọc ảnh (thay 'abc.jpg' bằng tên ảnh bạn vừa tải lên)\n",
        "image = cv2.imread('abc.jpg', cv2.IMREAD_GRAYSCALE)\n",
        "\n",
        "if image is None:\n",
        "    print(\"Không đọc được ảnh. Kiểm tra tên file!\")\n",
        "else:\n",
        "    # Kernel a\n",
        "    kernel_a = np.array([\n",
        "        [0, -1, 0],\n",
        "        [-1, 4, -1],\n",
        "        [0, -1, 0]\n",
        "    ])\n",
        "\n",
        "    # Kernel b\n",
        "    kernel_b = np.array([\n",
        "        [-1, -1, -1],\n",
        "        [-1, 8, -1],\n",
        "        [-1, -1, -1]\n",
        "    ])\n",
        "\n",
        "    # Áp dụng filter\n",
        "    edge_a = cv2.filter2D(image, -1, kernel_a)\n",
        "    edge_b = cv2.filter2D(image, -1, kernel_b)\n",
        "\n",
        "    # Hiển thị kết quả\n",
        "    plt.figure(figsize=(12,4))\n",
        "    plt.subplot(1, 3, 1)\n",
        "    plt.title('Ảnh gốc')\n",
        "    plt.imshow(image, cmap='gray')\n",
        "\n",
        "    plt.subplot(1, 3, 2)\n",
        "    plt.title('Tô đậm - Kernel A')\n",
        "    plt.imshow(edge_a, cmap='gray')\n",
        "\n",
        "    plt.subplot(1, 3, 3)\n",
        "    plt.title('Tô đậm - Kernel B')\n",
        "    plt.imshow(edge_b, cmap='gray')\n",
        "    plt.show()"
      ],
      "metadata": {
        "id": "BictsnD-lERD"
      },
      "execution_count": null,
      "outputs": []
    }
  ],
  "metadata": {
    "colab": {
      "name": "Welcome To Colab",
      "toc_visible": true,
      "provenance": []
    },
    "kernelspec": {
      "display_name": "Python 3",
      "name": "python3"
    }
  },
  "nbformat": 4,
  "nbformat_minor": 0
}