{
  "cells": [
    {
      "cell_type": "markdown",
      "source": [
        "cau 1"
      ],
      "metadata": {
        "id": "TczHbgFLlXxQ"
      }
    },
    {
      "cell_type": "code",
      "source": [
        "import numpy as np\n",
        "import math\n",
        "\n",
        "A = np.array([2, -1, 3, 0])\n",
        "B = np.array([1, 4, -2, 5])\n",
        "C = np.array([[1, 2, -1], [0, 3, 4], [2, -1, 0]])\n",
        "\n",
        "tong_AB = A + B\n",
        "tich_so = 3 * A - 2 * B\n",
        "print(\"Câu 1a:\")\n",
        "print(\"Tổng A + B:\", tong_AB)\n",
        "print(\"Tích số 3A - 2B:\", tich_so)\n",
        "\n",
        "dot_product = np.dot(A, B)\n",
        "norm_A = np.linalg.norm(A)\n",
        "norm_B = np.linalg.norm(B)\n",
        "cos_theta = dot_product / (norm_A * norm_B)\n",
        "angle_rad = math.acos(cos_theta)\n",
        "angle_deg = math.degrees(angle_rad)\n",
        "print(\"\\nCâu 1b:\")\n",
        "print(\"Tích vô hướng A · B:\", dot_product)\n",
        "print(\"Góc giữa A và B (độ):\", round(angle_deg, 3))\n",
        "\n",
        "CTC = np.dot(C.T, C)\n",
        "print(\"\\nCâu 1c:\")\n",
        "print(\"Ma trận Cᵀ * C:\\n\", CTC)\n"
      ],
      "metadata": {
        "id": "9r3KZpf2lY6A",
        "outputId": "9150bcee-b084-470e-e539-10106bb915b7",
        "colab": {
          "base_uri": "https://localhost:8080/"
        }
      },
      "execution_count": 1,
      "outputs": [
        {
          "output_type": "stream",
          "name": "stdout",
          "text": [
            "Câu 1a:\n",
            "Tổng A + B: [3 3 1 5]\n",
            "Tích số 3A - 2B: [  4 -11  13 -10]\n",
            "\n",
            "Câu 1b:\n",
            "Tích vô hướng A · B: -8\n",
            "Góc giữa A và B (độ): 108.376\n",
            "\n",
            "Câu 1c:\n",
            "Ma trận Cᵀ * C:\n",
            " [[ 5  0 -1]\n",
            " [ 0 14 10]\n",
            " [-1 10 17]]\n"
          ]
        }
      ]
    },
    {
      "cell_type": "markdown",
      "source": [
        "cau 2"
      ],
      "metadata": {
        "id": "ndQsqxI9lbQ2"
      }
    },
    {
      "cell_type": "code",
      "source": [
        "import numpy as np\n",
        "\n",
        "M = np.array([[1, 2, 3, 0], [4, 5, 6, 1], [7, 8, 9, 2], [0, 1, 1, 0]])\n",
        "N = np.array([[0, 1, 2, 3], [4, 5, 6, 7], [8, 9, 10, 11], [12, 13, 14, 15]])\n",
        "\n",
        "MN = np.dot(M, N)\n",
        "print(\"Câu 2a:\")\n",
        "print(\"Tích M × N:\\n\", MN)\n",
        "\n",
        "try:\n",
        "    det_M = np.linalg.det(M)\n",
        "    print(\"\\nCâu 2b:\")\n",
        "    print(\"Định thức của M:\", round(det_M, 3))\n",
        "except:\n",
        "    print(\"\\nKhông thể tính định thức vì M không phải là ma trận vuông.\")\n",
        "\n",
        "rank_N = np.linalg.matrix_rank(N)\n",
        "print(\"\\nCâu 2c:\")\n",
        "print(\"Hạng của ma trận N:\", rank_N)\n"
      ],
      "metadata": {
        "id": "WXAk-qhHlctb",
        "outputId": "943971ff-10a2-4e0e-c4f7-1ceaad55dda2",
        "colab": {
          "base_uri": "https://localhost:8080/"
        }
      },
      "execution_count": 2,
      "outputs": [
        {
          "output_type": "stream",
          "name": "stdout",
          "text": [
            "Câu 2a:\n",
            "Tích M × N:\n",
            " [[ 32  38  44  50]\n",
            " [ 80  96 112 128]\n",
            " [128 154 180 206]\n",
            " [ 12  14  16  18]]\n",
            "\n",
            "Câu 2b:\n",
            "Định thức của M: 0.0\n",
            "\n",
            "Câu 2c:\n",
            "Hạng của ma trận N: 2\n"
          ]
        }
      ]
    },
    {
      "cell_type": "markdown",
      "source": [
        "cau 3"
      ],
      "metadata": {
        "id": "UeSOpLpMlfL9"
      }
    },
    {
      "cell_type": "code",
      "source": [
        "import numpy as np\n",
        "\n",
        "P = np.array([[2, 1, 0, 1], [0, 3, 1, -1], [1, 0, 4, 2], [0, 1, 0, 3]])\n",
        "b = np.array([4, 7, 9, 5])\n",
        "\n",
        "try:\n",
        "    P_inv = np.linalg.inv(P)\n",
        "    print(\"Câu 3a:\")\n",
        "    print(\"Ma trận nghịch đảo của P:\\n\", P_inv)\n",
        "except np.linalg.LinAlgError:\n",
        "    print(\"Ma trận P không khả nghịch.\")\n",
        "\n",
        "x = np.dot(P_inv, b)\n",
        "print(\"\\nCâu 3b:\")\n",
        "print(\"Nghiệm của hệ phương trình:\", x)\n",
        "\n",
        "Ax = np.dot(P, x)\n",
        "print(\"\\nCâu 3c:\")\n",
        "print(\"P * x =\", Ax)\n",
        "print(\"Vector b =\", b)\n",
        "print(\"Kiểm tra đúng:\", np.allclose(Ax, b))\n"
      ],
      "metadata": {
        "id": "-btkErkblf7R",
        "outputId": "3d60313f-9b0e-410c-f36b-026dfc133485",
        "colab": {
          "base_uri": "https://localhost:8080/"
        }
      },
      "execution_count": 3,
      "outputs": [
        {
          "output_type": "stream",
          "name": "stdout",
          "text": [
            "Câu 3a:\n",
            "Ma trận nghịch đảo của P:\n",
            " [[ 0.48837209 -0.09302326  0.02325581 -0.20930233]\n",
            " [ 0.03488372  0.27906977 -0.06976744  0.12790698]\n",
            " [-0.11627907  0.06976744  0.23255814 -0.09302326]\n",
            " [-0.01162791 -0.09302326  0.02325581  0.29069767]]\n",
            "\n",
            "Câu 3b:\n",
            "Nghiệm của hệ phương trình: [0.46511628 2.10465116 1.65116279 0.96511628]\n",
            "\n",
            "Câu 3c:\n",
            "P * x = [4. 7. 9. 5.]\n",
            "Vector b = [4 7 9 5]\n",
            "Kiểm tra đúng: True\n"
          ]
        }
      ]
    },
    {
      "cell_type": "markdown",
      "source": [
        "cau 4"
      ],
      "metadata": {
        "id": "x0z8WqV5liiE"
      }
    },
    {
      "cell_type": "code",
      "source": [
        "import numpy as np\n",
        "\n",
        "Q = np.array([[4, -1, 0],\n",
        "              [1, 3, -2],\n",
        "              [0, 1, 2]])\n",
        "\n",
        "eigenvalues, eigenvectors = np.linalg.eig(Q)\n",
        "print(\"Câu 4a:\")\n",
        "print(\"Giá trị riêng:\", eigenvalues)\n",
        "\n",
        "print(\"\\nCâu 4b:\")\n",
        "print(\"Các vector riêng cột tương ứng:\\n\", eigenvectors)\n",
        "\n",
        "norm_vectors = eigenvectors / np.linalg.norm(eigenvectors, axis=0)\n",
        "print(\"\\nCâu 4c:\")\n",
        "print(\"Vector riêng chuẩn hóa (dài bằng 1):\\n\", norm_vectors)\n"
      ],
      "metadata": {
        "id": "cTjjVavcljeS",
        "outputId": "3ceb097b-9dd3-4bbe-d28e-1db783dd36d5",
        "colab": {
          "base_uri": "https://localhost:8080/"
        }
      },
      "execution_count": 4,
      "outputs": [
        {
          "output_type": "stream",
          "name": "stdout",
          "text": [
            "Câu 4a:\n",
            "Giá trị riêng: [3.45339765+0.j         2.77330117+1.46771151j 2.77330117-1.46771151j]\n",
            "\n",
            "Câu 4b:\n",
            "Các vector riêng cột tương ứng:\n",
            " [[ 0.83327121+0.j         -0.26206044-0.31354813j -0.26206044+0.31354813j]\n",
            " [ 0.455468  +0.j         -0.78166743+0.j         -0.78166743-0.j        ]\n",
            " [ 0.31338154+0.j         -0.21963176+0.41685708j -0.21963176-0.41685708j]]\n",
            "\n",
            "Câu 4c:\n",
            "Vector riêng chuẩn hóa (dài bằng 1):\n",
            " [[ 0.83327121+0.j         -0.26206044-0.31354813j -0.26206044+0.31354813j]\n",
            " [ 0.455468  +0.j         -0.78166743+0.j         -0.78166743+0.j        ]\n",
            " [ 0.31338154+0.j         -0.21963176+0.41685708j -0.21963176-0.41685708j]]\n"
          ]
        }
      ]
    },
    {
      "cell_type": "markdown",
      "source": [
        "cau 5"
      ],
      "metadata": {
        "id": "GSEXzFtclrqY"
      }
    },
    {
      "cell_type": "code",
      "source": [
        "import numpy as np\n",
        "\n",
        "R = np.array([[1, -2, 3],\n",
        "              [2, 0, 1],\n",
        "              [-1, 1, 4]])\n",
        "b = np.array([10, 8, 7])\n",
        "\n",
        "x1 = np.linalg.solve(R, b)\n",
        "print(\"Câu 5a:\")\n",
        "print(\"Nghiệm hệ Rx = b:\", x1)\n",
        "\n",
        "det_R = np.linalg.det(R)\n",
        "print(\"\\nCâu 5b:\")\n",
        "print(\"Định thức của R:\", round(det_R, 3))\n",
        "\n",
        "if not np.isclose(det_R, 0):\n",
        "    R_inv = np.linalg.inv(R)\n",
        "    x2 = R_inv @ b\n",
        "    print(\"Ma trận nghịch đảo R⁻¹:\\n\", R_inv)\n",
        "    print(\"Nghiệm bằng R⁻¹ · b:\", x2)\n",
        "    print(\"So sánh hai nghiệm giống nhau:\", np.allclose(x1, x2))\n",
        "else:\n",
        "    print(\"Ma trận R không khả nghịch.\")\n",
        "\n",
        "fro_norm = np.linalg.norm(R, 'fro')\n",
        "print(\"\\nCâu 5c:\")\n",
        "print(\"Chuẩn Frobenius của R:\", round(fro_norm, 3))\n"
      ],
      "metadata": {
        "id": "PIyOblr2lsaT",
        "outputId": "f88bb68b-ab6b-459f-89de-199919568320",
        "colab": {
          "base_uri": "https://localhost:8080/"
        }
      },
      "execution_count": 5,
      "outputs": [
        {
          "output_type": "stream",
          "name": "stdout",
          "text": [
            "Câu 5a:\n",
            "Nghiệm hệ Rx = b: [2.7826087  0.04347826 2.43478261]\n",
            "\n",
            "Câu 5b:\n",
            "Định thức của R: 23.0\n",
            "Ma trận nghịch đảo R⁻¹:\n",
            " [[-0.04347826  0.47826087 -0.08695652]\n",
            " [-0.39130435  0.30434783  0.2173913 ]\n",
            " [ 0.08695652  0.04347826  0.17391304]]\n",
            "Nghiệm bằng R⁻¹ · b: [2.7826087  0.04347826 2.43478261]\n",
            "So sánh hai nghiệm giống nhau: True\n",
            "\n",
            "Câu 5c:\n",
            "Chuẩn Frobenius của R: 6.083\n"
          ]
        }
      ]
    }
  ],
  "metadata": {
    "colab": {
      "name": "Welcome To Colab",
      "toc_visible": true,
      "provenance": []
    },
    "kernelspec": {
      "display_name": "Python 3",
      "name": "python3"
    }
  },
  "nbformat": 4,
  "nbformat_minor": 0
}