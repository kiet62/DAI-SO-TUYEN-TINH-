{
  "cells": [
    {
      "cell_type": "code",
      "source": [
        "import numpy as np\n",
        "D = np.array([[1,2],[3,4]])\n",
        "E = np.zeros_like(D)\n",
        "np.copyto(E, D)\n",
        "print(E)\n",
        "D_for_block2 = np.array([[1,2],[3,4]])\n",
        "E_initial = np.array([[1,2],[3,5]])\n",
        "np.copyto(E_initial, D_for_block2)\n",
        "print(E_initial)"
      ],
      "metadata": {
        "id": "CWA4UPNEZG9A",
        "outputId": "a3265d44-394f-405c-fcfa-9b7477edfbba",
        "colab": {
          "base_uri": "https://localhost:8080/"
        }
      },
      "execution_count": null,
      "outputs": [
        {
          "output_type": "stream",
          "name": "stdout",
          "text": [
            "[[1 2]\n",
            " [3 4]]\n",
            "[[1 2]\n",
            " [3 4]]\n"
          ]
        }
      ]
    },
    {
      "cell_type": "code",
      "source": [
        "import numpy as np\n",
        "\n",
        "D = np.array([[1,2],[3,4]])\n",
        "E = np.zeros_like(D)\n",
        "np.copyto(E, D)\n",
        "print(E)\n",
        "\n",
        "D_for_block2 = np.array([[1,2],[3,4]])\n",
        "E_initial = np.array([[1,2],[3,5]])\n",
        "\n",
        "np.copyto(E_initial, D_for_block2)\n",
        "print(E_initial)\n",
        "\n",
        "\n",
        "C_corrected_as_strings = np.array([['value_from_x', 'value_from_y'], ['1_str', '2_str']], dtype=str)\n",
        "print(C_corrected_as_strings)\n",
        "print(\"dtype:\", C_corrected_as_strings.dtype)\n",
        "\n",
        "x = np.array([['a','b'],['c','d']])\n",
        "y = 'x'\n",
        "C_corrected_object_type = np.array([[x,y],[1, 2]], dtype=object)\n",
        "print(C_corrected_object_type)\n",
        "print(\"dtype:\", C_corrected_object_type.dtype)"
      ],
      "metadata": {
        "id": "nwTtFhEsZeJU",
        "outputId": "ee71b19f-1e9e-4288-fe4e-7e21ad072f49",
        "colab": {
          "base_uri": "https://localhost:8080/"
        }
      },
      "execution_count": null,
      "outputs": [
        {
          "output_type": "stream",
          "name": "stdout",
          "text": [
            "[[1 2]\n",
            " [3 4]]\n",
            "[[1 2]\n",
            " [3 4]]\n",
            "[['value_from_x' 'value_from_y']\n",
            " ['1_str' '2_str']]\n",
            "dtype: <U12\n",
            "[[array([['a', 'b'],\n",
            "         ['c', 'd']], dtype='<U1') 'x']\n",
            " [1 2]]\n",
            "dtype: object\n"
          ]
        }
      ]
    },
    {
      "cell_type": "code",
      "source": [
        "import numpy as np\n",
        "\n",
        "A_corrected_2d_matrix = np.matrix([[1,2,3,4],[5,6,7,8]])\n",
        "print(A_corrected_2d_matrix)\n",
        "print(\"Shape:\", A_corrected_2d_matrix.shape)\n",
        "print(\"-\" * 30)\n",
        "\n",
        "A_np_array = np.array([[[1,2],[3,4]],[[5,6],[7,8]]])\n",
        "print(A_np_array)\n",
        "print(\"Shape:\", A_np_array.shape)\n",
        "print(\"Kiểu dữ liệu (dtype):\", A_np_array.dtype)"
      ],
      "metadata": {
        "id": "JpN6tVjGZ4jZ",
        "outputId": "b99b4472-f371-4d27-e14f-cf5de0175c60",
        "colab": {
          "base_uri": "https://localhost:8080/"
        }
      },
      "execution_count": null,
      "outputs": [
        {
          "output_type": "stream",
          "name": "stdout",
          "text": [
            "[[1 2 3 4]\n",
            " [5 6 7 8]]\n",
            "Shape: (2, 4)\n",
            "------------------------------\n",
            "[[[1 2]\n",
            "  [3 4]]\n",
            "\n",
            " [[5 6]\n",
            "  [7 8]]]\n",
            "Shape: (2, 2, 2)\n",
            "Kiểu dữ liệu (dtype): int64\n"
          ]
        }
      ]
    },
    {
      "cell_type": "code",
      "source": [
        "import numpy as np\n",
        "import numpy.matlib as matlib\n",
        "\n",
        "G = matlib.identity(5)\n",
        "print(G)\n",
        "print(\"Shape:\", G.shape)\n",
        "\n",
        "H = matlib.randn(3,2)\n",
        "print(H)\n",
        "print(\"Shape:\", H.shape)\n",
        "\n",
        "K = matlib.zeros((4,4))\n",
        "print(K)\n",
        "print(\"Shape:\", K.shape)\n",
        "\n",
        "D = np.array([[1,2],[3,4]])\n",
        "E_fixed_block1 = np.zeros_like(D)\n",
        "np.copyto(E_fixed_block1, D)\n",
        "print(E_fixed_block1)\n",
        "print(\"Shape:\", E_fixed_block1.shape)\n",
        "\n",
        "E_block2_initial = np.array([[1,2],[3,5]])\n",
        "np.copyto(E_block2_initial, D)\n",
        "print(E_block2_initial)\n",
        "print(\"Shape:\", E_block2_initial.shape)"
      ],
      "metadata": {
        "id": "Nq17KKyZaJEl",
        "outputId": "202225a1-3e75-467b-a2c8-b1ced91a0d96",
        "colab": {
          "base_uri": "https://localhost:8080/"
        }
      },
      "execution_count": null,
      "outputs": [
        {
          "output_type": "stream",
          "name": "stdout",
          "text": [
            "[[1. 0. 0. 0. 0.]\n",
            " [0. 1. 0. 0. 0.]\n",
            " [0. 0. 1. 0. 0.]\n",
            " [0. 0. 0. 1. 0.]\n",
            " [0. 0. 0. 0. 1.]]\n",
            "Shape: (5, 5)\n",
            "[[-0.42261044  0.12226672]\n",
            " [-1.02465538  0.31372592]\n",
            " [ 0.49950734  0.27311125]]\n",
            "Shape: (3, 2)\n",
            "[[0. 0. 0. 0.]\n",
            " [0. 0. 0. 0.]\n",
            " [0. 0. 0. 0.]\n",
            " [0. 0. 0. 0.]]\n",
            "Shape: (4, 4)\n",
            "[[1 2]\n",
            " [3 4]]\n",
            "Shape: (2, 2)\n",
            "[[1 2]\n",
            " [3 4]]\n",
            "Shape: (2, 2)\n"
          ]
        }
      ]
    },
    {
      "cell_type": "code",
      "source": [
        "import numpy as np\n",
        "\n",
        "c = [3, 7, 15, 1, 292, 1, 1, 1, 2, 1, 3, 1, 14, 2]\n",
        "\n",
        "M = np.array([[1,2],[3,4]])\n",
        "\n",
        "for i in range(len(c)):\n",
        "    ci = np.array([[1,1],[1,0]])\n",
        "    ci[0, 0] = c[i]\n",
        "\n",
        "    if (i == 0):\n",
        "        M = ci\n",
        "    else:\n",
        "        M = np.dot(M, ci)\n",
        "\n",
        "print(\"Ma trận M cuối cùng:\")\n",
        "print(M)\n",
        "print(\"Giá trị gần đúng của Pi theo dãy liên phân số:\")\n",
        "print(M[0,0] / M[1,0])\n",
        "\n",
        "c_short = [3, 7, 15]\n",
        "M_short = np.array([[1,2],[3,4]])\n",
        "\n",
        "for i in range(len(c_short)):\n",
        "    ci_short = np.array([[1,1],[1,0]])\n",
        "    ci_short[0, 0] = c_short[i]\n",
        "\n",
        "    if (i == 0):\n",
        "        M_short = ci_short\n",
        "    else:\n",
        "        M_short = np.dot(M_short, ci_short)\n",
        "\n",
        "print(\"Ma trận M cuối cùng (c_short):\")\n",
        "print(M_short)\n",
        "print(\"Giá trị gần đúng của Pi (c_short):\")\n",
        "print(M_short[0,0] / M_short[1,0])\n",
        "\n",
        "D = np.array([[1,2],[3,4]])\n",
        "E = np.zeros_like(D)\n",
        "np.copyto(E, D)\n",
        "print(\"Kết quả sau khi sửa lỗi cho đoạn 1:\")\n",
        "print(E)\n",
        "\n",
        "D_for_block2 = np.array([[1,2],[3,4]])\n",
        "\n",
        "E = np.array([[1,2],[3,5]])\n",
        "np.copyto(E, D_for_block2)\n",
        "print(\"Kết quả sau khi sửa lỗi/chạy cho đoạn 2:\")\n",
        "print(E)"
      ],
      "metadata": {
        "id": "IwVrTi0QbHqp",
        "outputId": "d143adac-4b90-463e-f68e-65f36762da46",
        "colab": {
          "base_uri": "https://localhost:8080/"
        }
      },
      "execution_count": null,
      "outputs": [
        {
          "output_type": "stream",
          "name": "stdout",
          "text": [
            "Ma trận M cuối cùng:\n",
            "[[165707065  80143857]\n",
            " [ 52746197  25510582]]\n",
            "Giá trị gần đúng của Pi theo dãy liên phân số:\n",
            "3.1415926535897936\n",
            "Ma trận M cuối cùng (c_short):\n",
            "[[333  22]\n",
            " [106   7]]\n",
            "Giá trị gần đúng của Pi (c_short):\n",
            "3.141509433962264\n",
            "Kết quả sau khi sửa lỗi cho đoạn 1:\n",
            "[[1 2]\n",
            " [3 4]]\n",
            "Kết quả sau khi sửa lỗi/chạy cho đoạn 2:\n",
            "[[1 2]\n",
            " [3 4]]\n"
          ]
        }
      ]
    },
    {
      "cell_type": "code",
      "source": [
        "import numpy as np\n",
        "\n",
        "X = np.array([[1, 1],\n",
        "              [1, 2],\n",
        "              [1, 3]])\n",
        "\n",
        "Y = np.array([1.0, 2.2, 3.4])\n",
        "\n",
        "XT = X.T\n",
        "\n",
        "print(\"Ma trận X:\")\n",
        "print(X)\n",
        "print(\"\\nVector Y:\")\n",
        "print(Y)\n",
        "print(\"\\nMa trận chuyển vị X^T:\")\n",
        "print(XT)\n",
        "\n",
        "D = np.array([[1,2],[3,4]])\n",
        "\n",
        "E_fixed_1 = np.zeros_like(D)\n",
        "np.copyto(E_fixed_1, D)\n",
        "print(E_fixed_1)\n",
        "\n",
        "D_for_block2 = np.array([[1,2],[3,4]])\n",
        "\n",
        "E_initial_2 = np.array([[1,2],[3,5]])\n",
        "np.copyto(E_initial_2, D_for_block2)\n",
        "print(E_initial_2)"
      ],
      "metadata": {
        "id": "4g4Zx18jbJfN",
        "outputId": "c4e4d9e8-14d4-424d-9be2-5641f7c61e08",
        "colab": {
          "base_uri": "https://localhost:8080/"
        }
      },
      "execution_count": null,
      "outputs": [
        {
          "output_type": "stream",
          "name": "stdout",
          "text": [
            "Ma trận X:\n",
            "[[1 1]\n",
            " [1 2]\n",
            " [1 3]]\n",
            "\n",
            "Vector Y:\n",
            "[1.  2.2 3.4]\n",
            "\n",
            "Ma trận chuyển vị X^T:\n",
            "[[1 1 1]\n",
            " [1 2 3]]\n",
            "[[1 2]\n",
            " [3 4]]\n",
            "[[1 2]\n",
            " [3 4]]\n"
          ]
        }
      ]
    },
    {
      "cell_type": "code",
      "source": [
        "import numpy as np\n",
        "\n",
        "X = np.array([[1, 1],\n",
        "              [1, 2],\n",
        "              [1, 3]])\n",
        "\n",
        "Y = np.array([1.0, 2.2, 3.4])\n",
        "\n",
        "XT = X.T\n",
        "\n",
        "XTX = XT @ X\n",
        "A1 = np.linalg.inv(XTX)\n",
        "\n",
        "A2 = XT @ Y\n",
        "\n",
        "print(\"Giá trị A1 = (X^T X)^-1:\")\n",
        "print(A1)\n",
        "print(\"\\nGiá trị A2 = X^T Y:\")\n",
        "print(A2)\n",
        "\n",
        "beta_hat = A1 @ A2\n",
        "print(beta_hat)\n",
        "\n",
        "D = np.array([[1,2],[3,4]])\n",
        "\n",
        "E_fixed_1 = np.zeros_like(D)\n",
        "np.copyto(E_fixed_1, D)\n",
        "print(E_fixed_1)\n",
        "\n",
        "E_initial_2 = np.array([[1,2],[3,5]])\n",
        "np.copyto(E_initial_2, D)\n",
        "print(E_initial_2)"
      ],
      "metadata": {
        "id": "T4YBv9Wyb_IY",
        "outputId": "75d1e8c5-91d6-4900-9e31-62930a8ecbd8",
        "colab": {
          "base_uri": "https://localhost:8080/"
        }
      },
      "execution_count": null,
      "outputs": [
        {
          "output_type": "stream",
          "name": "stdout",
          "text": [
            "Giá trị A1 = (X^T X)^-1:\n",
            "[[ 2.33333333 -1.        ]\n",
            " [-1.          0.5       ]]\n",
            "\n",
            "Giá trị A2 = X^T Y:\n",
            "[ 6.6 15.6]\n",
            "[-0.2  1.2]\n",
            "[[1 2]\n",
            " [3 4]]\n",
            "[[1 2]\n",
            " [3 4]]\n"
          ]
        }
      ]
    },
    {
      "cell_type": "code",
      "source": [
        "import numpy as np\n",
        "\n",
        "X = np.array([[1, 1],\n",
        "              [1, 2],\n",
        "              [1, 3]])\n",
        "\n",
        "Y = np.array([1.0, 2.2, 3.4])\n",
        "\n",
        "XT = X.T\n",
        "XTX = XT @ X\n",
        "A1 = np.linalg.inv(XTX)\n",
        "A2 = XT @ Y\n",
        "\n",
        "A_coeffs = A1.dot(A2)\n",
        "print(A_coeffs)\n",
        "\n",
        "a0 = A_coeffs[0]\n",
        "a1 = A_coeffs[1]\n",
        "print(f\"f(x) = {a0:.4f} + {a1:.4f}x\")\n",
        "\n",
        "D = np.array([[1,2],[3,4]])\n",
        "\n",
        "E_fixed_1 = np.zeros_like(D)\n",
        "np.copyto(E_fixed_1, D)\n",
        "print(E_fixed_1)\n",
        "\n",
        "E_initial_2 = np.array([[1,2],[3,5]])\n",
        "np.copyto(E_initial_2, D)\n",
        "print(E_initial_2)"
      ],
      "metadata": {
        "id": "tVVFZQHTcSpv",
        "outputId": "7d5e5a88-1815-4ef7-878b-a42fa52c475c",
        "colab": {
          "base_uri": "https://localhost:8080/"
        }
      },
      "execution_count": null,
      "outputs": [
        {
          "output_type": "stream",
          "name": "stdout",
          "text": [
            "[-0.2  1.2]\n",
            "f(x) = -0.2000 + 1.2000x\n",
            "[[1 2]\n",
            " [3 4]]\n",
            "[[1 2]\n",
            " [3 4]]\n"
          ]
        }
      ]
    },
    {
      "cell_type": "markdown",
      "source": [
        "bài tập chương"
      ],
      "metadata": {
        "id": "zr_tPxZqc6c2"
      }
    },
    {
      "cell_type": "code",
      "source": [
        "import numpy as np\n",
        "\n",
        "x_data = np.array([0, 1, 2, 3, 4])\n",
        "y_data = np.array([10, 8, 7, 5, 2])\n",
        "\n",
        "n = len(x_data)\n",
        "\n",
        "sum_x = np.sum(x_data)\n",
        "sum_y = np.sum(y_data)\n",
        "\n",
        "sum_xy = np.sum(x_data * y_data)\n",
        "\n",
        "sum_x_squared = np.sum(x_data**2)\n",
        "\n",
        "numerator_a = n * sum_xy - sum_x * sum_y\n",
        "denominator_a = n * sum_x_squared - (sum_x)**2\n",
        "a = numerator_a / denominator_a\n",
        "\n",
        "b = (sum_y - a * sum_x) / n\n",
        "\n",
        "print(f\"Phương trình tuyến tính: y = {b:.1f} + {a:.1f}x\")"
      ],
      "metadata": {
        "id": "0Ri4KwqKc9tg",
        "outputId": "d4ff8070-f1b3-4561-bb9a-58c220572788",
        "colab": {
          "base_uri": "https://localhost:8080/"
        }
      },
      "execution_count": null,
      "outputs": [
        {
          "output_type": "stream",
          "name": "stdout",
          "text": [
            "Phương trình tuyến tính: y = 10.2 + -1.9x\n"
          ]
        }
      ]
    }
  ],
  "metadata": {
    "colab": {
      "provenance": []
    },
    "kernelspec": {
      "display_name": "Python 3",
      "name": "python3"
    }
  },
  "nbformat": 4,
  "nbformat_minor": 0
}