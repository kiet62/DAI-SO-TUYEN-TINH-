{
  "nbformat": 4,
  "nbformat_minor": 0,
  "metadata": {
    "colab": {
      "provenance": []
    },
    "kernelspec": {
      "name": "python3",
      "display_name": "Python 3"
    },
    "language_info": {
      "name": "python"
    }
  },
  "cells": [
    {
      "cell_type": "markdown",
      "source": [
        "bài tập trên lớp"
      ],
      "metadata": {
        "id": "cVS8OydxV7kH"
      }
    },
    {
      "cell_type": "code",
      "source": [
        "import numpy as np\n",
        "\n",
        "def sgn_by_def(sigma):\n",
        "    ket_qua = 1.0\n",
        "    n = len(sigma)\n",
        "    X = np.array(range(1, n + 1))\n",
        "\n",
        "    for i in range(len(X) - 1):\n",
        "        for j in range(i + 1, len(X)):\n",
        "            denominator = sigma[i] - sigma[j]\n",
        "            if denominator == 0:\n",
        "                return 0\n",
        "            ket_qua = ket_qua * ((X[i] - X[j]) / (denominator))\n",
        "\n",
        "    return int(ket_qua)\n",
        "\n",
        "n = 4\n",
        "X = np.array(range(1, n + 1))\n",
        "sigma1 = np.array([4, 3, 2, 1])\n",
        "print(f\"For sigma = {sigma1}, sgn_by_def(sigma) = {sgn_by_def(sigma1)}\")\n",
        "\n",
        "sigma2 = np.array([2, 1, 3, 4])\n",
        "print(f\"For sigma = {sigma2}, sgn_by_def(sigma) = {sgn_by_def(sigma2)}\")\n",
        "\n",
        "sigma_identity = np.array([1, 2, 3, 4])\n",
        "print(f\"For sigma = {sigma_identity}, sgn_by_def(sigma) = {sgn_by_def(sigma_identity)}\")\n",
        "\n",
        "sigma_swap = np.array([2, 1, 4, 3])\n",
        "print(f\"For sigma = {sigma_swap}, sgn_by_def(sigma) = {sgn_by_def(sigma_swap)}\")\n",
        "\n",
        "sigma_more_swaps = np.array([1, 4, 3, 2])\n",
        "print(f\"For sigma = {sigma_more_swaps}, sgn_by_def(sigma) = {sgn_by_def(sigma_more_swaps)}\")\n",
        "\n",
        "sigma_three_elements = np.array([3, 1, 2])\n",
        "print(f\"For sigma = {sigma_three_elements}, sgn_by_def(sigma) = {sgn_by_def(sigma_three_elements)}\")"
      ],
      "metadata": {
        "colab": {
          "base_uri": "https://localhost:8080/"
        },
        "id": "EmphgeCASu_q",
        "outputId": "3d36ba87-8a52-4617-f25c-3db6f45377a9"
      },
      "execution_count": 1,
      "outputs": [
        {
          "output_type": "stream",
          "name": "stdout",
          "text": [
            "For sigma = [4 3 2 1], sgn_by_def(sigma) = 1\n",
            "For sigma = [2 1 3 4], sgn_by_def(sigma) = -1\n",
            "For sigma = [1 2 3 4], sgn_by_def(sigma) = 1\n",
            "For sigma = [2 1 4 3], sgn_by_def(sigma) = 1\n",
            "For sigma = [1 4 3 2], sgn_by_def(sigma) = -1\n",
            "For sigma = [3 1 2], sgn_by_def(sigma) = 1\n"
          ]
        }
      ]
    },
    {
      "cell_type": "code",
      "source": [
        "import numpy as np\n",
        "\n",
        "def sgn_by_def(sigma):\n",
        "    ket_qua = 1.0\n",
        "    n = len(sigma)\n",
        "    X = np.array(range(1, n + 1))\n",
        "\n",
        "    for i in range(len(X) - 1):\n",
        "        for j in range(i + 1, len(X)):\n",
        "            denominator = sigma[i] - sigma[j]\n",
        "            if denominator == 0:\n",
        "                return 0\n",
        "            ket_qua = ket_qua * ((X[i] - X[j]) / (denominator))\n",
        "\n",
        "    return int(ket_qua)\n",
        "\n",
        "sigma1 = np.array([1, 2, 3, 4])\n",
        "result1 = sgn_by_def(sigma1)\n",
        "print(f\"sigma = {sigma1}\")\n",
        "print(f\"sgn_by_def(sigma) = {result1}\")\n",
        "print(f\"Kết quả điền: {result1}\")\n",
        "\n",
        "sigma2 = np.array([4, 3, 2, 1])\n",
        "result2 = sgn_by_def(sigma2)\n",
        "print(f\"\\nsigma = {sigma2}\")\n",
        "print(f\"sgn_by_def(sigma) = {result2}\")\n",
        "print(f\"Kết quả điền: {result2}\")"
      ],
      "metadata": {
        "colab": {
          "base_uri": "https://localhost:8080/"
        },
        "id": "Ghxb2lmDTJf6",
        "outputId": "5e9513f1-f14d-4985-cbd2-44d9d23d3175"
      },
      "execution_count": 2,
      "outputs": [
        {
          "output_type": "stream",
          "name": "stdout",
          "text": [
            "sigma = [1 2 3 4]\n",
            "sgn_by_def(sigma) = 1\n",
            "Kết quả điền: 1\n",
            "\n",
            "sigma = [4 3 2 1]\n",
            "sgn_by_def(sigma) = 1\n",
            "Kết quả điền: 1\n"
          ]
        }
      ]
    },
    {
      "cell_type": "code",
      "source": [
        "from itertools import permutations\n",
        "\n",
        "n = 3\n",
        "\n",
        "X = []\n",
        "for i in range(1, n + 1):\n",
        "    X.append(i)\n",
        "\n",
        "Sn = list(permutations(X))\n",
        "\n",
        "print(Sn)"
      ],
      "metadata": {
        "colab": {
          "base_uri": "https://localhost:8080/"
        },
        "id": "t707zIeXTdI6",
        "outputId": "2ccfeaf6-b9b9-4990-a07e-9a207394b1d7"
      },
      "execution_count": 3,
      "outputs": [
        {
          "output_type": "stream",
          "name": "stdout",
          "text": [
            "[(1, 2, 3), (1, 3, 2), (2, 1, 3), (2, 3, 1), (3, 1, 2), (3, 2, 1)]\n"
          ]
        }
      ]
    },
    {
      "cell_type": "code",
      "source": [
        "import numpy as np\n",
        "from itertools import permutations\n",
        "\n",
        "def sgn_by_def(sigma):\n",
        "    ket_qua = 1.0\n",
        "    n = len(sigma)\n",
        "    X = np.array(range(1, n + 1))\n",
        "\n",
        "    for i in range(len(X) - 1):\n",
        "        for j in range(i + 1, len(X)):\n",
        "            denominator = sigma[i] - sigma[j]\n",
        "            if denominator == 0:\n",
        "                return 0\n",
        "            ket_qua = ket_qua * ((X[i] - X[j]) / (denominator))\n",
        "\n",
        "    return int(ket_qua)\n",
        "\n",
        "def phatsinh_dinhtuc(n):\n",
        "    X = []\n",
        "    for i in range(1, n + 1):\n",
        "        X.append(i)\n",
        "\n",
        "    Sn = list(permutations(X))\n",
        "    dinhtuc = \"\"\n",
        "\n",
        "    for sn in Sn:\n",
        "        sigma = np.array(sn)\n",
        "\n",
        "        product = \"\"\n",
        "        for i in range(n):\n",
        "            product += \"a\" + str(i + 1) + str(sn[i])\n",
        "\n",
        "        dau = sgn_by_def(sigma)\n",
        "\n",
        "        if (dau == -1):\n",
        "            product = \" - \" + product\n",
        "        else:\n",
        "            product = \" + \" + product\n",
        "\n",
        "        dinhtuc = dinhtuc + product\n",
        "\n",
        "    return dinhtuc\n",
        "\n",
        "output_n2 = phatsinh_dinhtuc(2)\n",
        "print(f\"phatsinh_dinhtuc(2)\\n'{output_n2}'\")\n",
        "\n",
        "output_n3 = phatsinh_dinhtuc(3)\n",
        "print(f\"\\nphatsinh_dinhtuc(3)\\n'{output_n3}'\")"
      ],
      "metadata": {
        "colab": {
          "base_uri": "https://localhost:8080/"
        },
        "id": "JwtzbozSToMc",
        "outputId": "89f2aedc-a443-4966-bdbf-f79f33d356dd"
      },
      "execution_count": 4,
      "outputs": [
        {
          "output_type": "stream",
          "name": "stdout",
          "text": [
            "phatsinh_dinhtuc(2)\n",
            "' + a11a22 - a12a21'\n",
            "\n",
            "phatsinh_dinhtuc(3)\n",
            "' + a11a22a33 - a11a23a32 - a12a21a33 + a12a23a31 + a13a21a32 - a13a22a31'\n"
          ]
        }
      ]
    },
    {
      "cell_type": "code",
      "source": [
        "import numpy as np\n",
        "from itertools import permutations\n",
        "\n",
        "def sgn_by_def(sigma):\n",
        "    ket_qua = 1.0\n",
        "    n = len(sigma)\n",
        "    X = np.array(range(1, n + 1))\n",
        "\n",
        "    for i in range(len(X) - 1):\n",
        "        for j in range(i + 1, len(X)):\n",
        "            denominator = sigma[i] - sigma[j]\n",
        "            if denominator == 0:\n",
        "                return 0\n",
        "            ket_qua = ket_qua * ((X[i] - X[j]) / (denominator))\n",
        "\n",
        "    return int(ket_qua)\n",
        "\n",
        "def phatsinh_dinhtuc(n):\n",
        "    X = []\n",
        "    for i in range(1, n + 1):\n",
        "        X.append(i)\n",
        "\n",
        "    Sn = list(permutations(X))\n",
        "    dinhtuc = \"\"\n",
        "\n",
        "    for sn in Sn:\n",
        "        sigma = np.array(sn)\n",
        "\n",
        "        product = \"\"\n",
        "        for i in range(n):\n",
        "            product += \"a\" + str(i + 1) + str(sn[i])\n",
        "\n",
        "        dau = sgn_by_def(sigma)\n",
        "\n",
        "        if (dau == -1):\n",
        "            product = \" - \" + product\n",
        "        else:\n",
        "            product = \" + \" + product\n",
        "\n",
        "        dinhtuc = dinhtuc + product\n",
        "\n",
        "    return dinhtuc\n",
        "\n",
        "result = phatsinh_dinhtuc(3)\n",
        "print(result)"
      ],
      "metadata": {
        "colab": {
          "base_uri": "https://localhost:8080/"
        },
        "id": "cayBMOMDUMqP",
        "outputId": "4ff17112-7f48-4f08-e988-131858664a04"
      },
      "execution_count": 5,
      "outputs": [
        {
          "output_type": "stream",
          "name": "stdout",
          "text": [
            " + a11a22a33 - a11a23a32 - a12a21a33 + a12a23a31 + a13a21a32 - a13a22a31\n"
          ]
        }
      ]
    },
    {
      "cell_type": "code",
      "source": [
        "import numpy as np\n",
        "import math\n",
        "from itertools import permutations\n",
        "\n",
        "def sgn_by_def(sigma):\n",
        "    ket_qua = 1.0\n",
        "    n = len(sigma)\n",
        "    X = np.array(range(1, n + 1))\n",
        "\n",
        "    for i in range(len(X) - 1):\n",
        "        for j in range(i + 1, len(X)):\n",
        "            denominator = sigma[i] - sigma[j]\n",
        "            if denominator == 0:\n",
        "                return 0\n",
        "            ket_qua = ket_qua * ((X[i] - X[j]) / (denominator))\n",
        "\n",
        "    return int(ket_qua)\n",
        "\n",
        "def tinhtoan_dinhtuc(A):\n",
        "    n = A.shape[0]\n",
        "\n",
        "    X = []\n",
        "    for i in range(1, n + 1):\n",
        "        X.append(i)\n",
        "\n",
        "    Sn = list(permutations(X))\n",
        "\n",
        "    dinhtuc = 0\n",
        "\n",
        "    for sn in Sn:\n",
        "        sigma = np.array(sn)\n",
        "\n",
        "        product = 1.0\n",
        "\n",
        "        for i in range(n):\n",
        "            product = product * A[i][sn[i]-1]\n",
        "\n",
        "        dau = sgn_by_def(sigma)\n",
        "\n",
        "        dinhtuc = dinhtuc + (dau * product)\n",
        "\n",
        "    return dinhtuc\n",
        "\n",
        "matran = np.array([[3, 5, -8],\n",
        "                   [4, 12, -1],\n",
        "                   [2, 5, 3]])\n",
        "\n",
        "ket_qua_dinhtuc = tinhtoan_dinhtuc(matran)\n",
        "\n",
        "print(f\"Ma trận A:\\n{matran}\")\n",
        "print(f\"Giá trị định thức của A là: {ket_qua_dinhtuc}\")"
      ],
      "metadata": {
        "colab": {
          "base_uri": "https://localhost:8080/"
        },
        "id": "Ii9FpCM5UYHl",
        "outputId": "41c92e66-a025-41af-cbb6-31649500a245"
      },
      "execution_count": 6,
      "outputs": [
        {
          "output_type": "stream",
          "name": "stdout",
          "text": [
            "Ma trận A:\n",
            "[[ 3  5 -8]\n",
            " [ 4 12 -1]\n",
            " [ 2  5  3]]\n",
            "Giá trị định thức của A là: 85.0\n"
          ]
        }
      ]
    },
    {
      "cell_type": "code",
      "source": [
        "import numpy as np\n",
        "from scipy import linalg\n",
        "\n",
        "A = np.array([[4, -2],\n",
        "              [3, -5]])\n",
        "\n",
        "A1 = np.array([[10, -2],\n",
        "               [11, -5]])\n",
        "\n",
        "A2 = np.array([[4, 10],\n",
        "               [3, 11]])\n",
        "\n",
        "detA = linalg.det(A)\n",
        "\n",
        "detA1 = linalg.det(A1)\n",
        "\n",
        "detA2 = linalg.det(A2)\n",
        "\n",
        "print(f\"detA = {detA}\")\n",
        "print(f\"detA1 = {detA1}\")\n",
        "print(f\"detA2 = {detA2}\")\n",
        "\n",
        "if detA != 0:\n",
        "    x1 = detA1 / detA\n",
        "    x2 = detA2 / detA\n",
        "    print(f\"\\nGiá trị của x1 là: {x1}\")\n",
        "    print(f\"Giá trị của x2 là: {x2}\")\n",
        "else:\n",
        "    print(\"\\nĐịnh thức của ma trận A bằng 0. Hệ phương trình có thể không có nghiệm duy nhất.\")"
      ],
      "metadata": {
        "colab": {
          "base_uri": "https://localhost:8080/"
        },
        "id": "JQD2zY_YUyf4",
        "outputId": "b21cd85c-9371-414c-c984-2edbbbe749f0"
      },
      "execution_count": 7,
      "outputs": [
        {
          "output_type": "stream",
          "name": "stdout",
          "text": [
            "detA = -14.0\n",
            "detA1 = -28.0\n",
            "detA2 = 14.000000000000004\n",
            "\n",
            "Giá trị của x1 là: 2.0\n",
            "Giá trị của x2 là: -1.0000000000000002\n"
          ]
        }
      ]
    },
    {
      "cell_type": "code",
      "source": [
        "import numpy as np\n",
        "from itertools import permutations\n",
        "\n",
        "def sgn_by_def(sigma):\n",
        "    ket_qua = 1.0\n",
        "    n = len(sigma)\n",
        "    X = np.array(range(1, n + 1))\n",
        "\n",
        "    for i in range(len(X) - 1):\n",
        "        for j in range(i + 1, len(X)):\n",
        "            denominator = sigma[i] - sigma[j]\n",
        "            if denominator == 0:\n",
        "                return 0\n",
        "            ket_qua = ket_qua * ((X[i] - X[j]) / (denominator))\n",
        "\n",
        "    return int(ket_qua)\n",
        "\n",
        "def tinhtoan_dinhtuc(A):\n",
        "    n = A.shape[0]\n",
        "    X = []\n",
        "    for i in range(1, n + 1):\n",
        "        X.append(i)\n",
        "\n",
        "    Sn = list(permutations(X))\n",
        "    dinhtuc_val = 0.0\n",
        "\n",
        "    for sn in Sn:\n",
        "        sigma = np.array(sn)\n",
        "        product = 1.0\n",
        "\n",
        "        for i in range(n):\n",
        "            product = product * A[i][sn[i]-1]\n",
        "\n",
        "        dau = sgn_by_def(sigma)\n",
        "        dinhtuc_val = dinhtuc_val + (dau * product)\n",
        "\n",
        "    return dinhtuc_val\n",
        "\n",
        "A = np.array([[4, -2],\n",
        "              [3, -5]])\n",
        "\n",
        "A1 = np.array([[10, -2],\n",
        "               [11, -5]])\n",
        "\n",
        "A2 = np.array([[4, 10],\n",
        "               [3, 11]])\n",
        "\n",
        "detA = tinhtoan_dinhtuc(A)\n",
        "detA1 = tinhtoan_dinhtuc(A1)\n",
        "detA2 = tinhtoan_dinhtuc(A2)\n",
        "\n",
        "if (detA != 0):\n",
        "    x1 = detA1 / detA\n",
        "    x2 = detA2 / detA\n",
        "    print(\"Hai nghiệm của phương trình là: \", x1, x2)\n",
        "\n",
        "\n",
        "print(f\"detA = {detA}\")\n",
        "print(f\"detA1 = {detA1}\")\n",
        "print(f\"detA2 = {detA2}\")\n",
        "print(f\"x1 = {x1}, x2 = {x2}\")"
      ],
      "metadata": {
        "colab": {
          "base_uri": "https://localhost:8080/"
        },
        "id": "RnkbmIpaVB5V",
        "outputId": "23cab555-4389-4ff7-8399-dc158c3c20d2"
      },
      "execution_count": 8,
      "outputs": [
        {
          "output_type": "stream",
          "name": "stdout",
          "text": [
            "Hai nghiệm của phương trình là:  2.0 -1.0\n",
            "detA = -14.0\n",
            "detA1 = -28.0\n",
            "detA2 = 14.0\n",
            "x1 = 2.0, x2 = -1.0\n"
          ]
        }
      ]
    },
    {
      "cell_type": "code",
      "source": [
        "import numpy as np\n",
        "from scipy import linalg\n",
        "from itertools import permutations\n",
        "\n",
        "def sgn_by_def(sigma):\n",
        "    ket_qua = 1.0\n",
        "    n = len(sigma)\n",
        "    X = np.array(range(1, n + 1))\n",
        "\n",
        "    for i in range(len(X) - 1):\n",
        "        for j in range(i + 1, len(X)):\n",
        "            denominator = sigma[i] - sigma[j]\n",
        "            if denominator == 0:\n",
        "                return 0\n",
        "            ket_qua = ket_qua * ((X[i] - X[j]) / (denominator))\n",
        "    return int(ket_qua)\n",
        "\n",
        "def tinhtoan_dinhtuc(A_matrix):\n",
        "    n = A_matrix.shape[0]\n",
        "    X = list(range(1, n + 1))\n",
        "\n",
        "    Sn = list(permutations(X))\n",
        "    dinhtuc_val = 0.0\n",
        "\n",
        "    for sn in Sn:\n",
        "        sigma = np.array(sn)\n",
        "        product = 1.0\n",
        "\n",
        "        for i in range(n):\n",
        "            product = product * A_matrix[i][sn[i]-1]\n",
        "\n",
        "        dau = sgn_by_def(sigma)\n",
        "        dinhtuc_val = dinhtuc_val + (dau * product)\n",
        "    return dinhtuc_val\n",
        "\n",
        "A = np.array([[-1, 2, -3],\n",
        "              [2, -2, 1],\n",
        "              [3, -4, 4]])\n",
        "\n",
        "Ax = np.array([[1, 2, -3],\n",
        "               [3, -2, 1],\n",
        "               [2, -4, 4]])\n",
        "\n",
        "Ay = np.array([[-1, 1, -3],\n",
        "               [2, 3, 1],\n",
        "               [3, 2, 4]])\n",
        "\n",
        "Az = np.array([[-1, 2, 1],\n",
        "               [2, -2, 3],\n",
        "               [3, -4, 2]])\n",
        "\n",
        "print(\"--- Giải hệ phương trình bằng scipy.linalg.det() ---\")\n",
        "det_A_scipy = linalg.det(A)\n",
        "det_Ax_scipy = linalg.det(Ax)\n",
        "det_Ay_scipy = linalg.det(Ay)\n",
        "det_Az_scipy = linalg.det(Az)\n",
        "\n",
        "print(f\"detA (scipy) = {det_A_scipy}\")\n",
        "print(f\"detAx (scipy) = {det_Ax_scipy}\")\n",
        "print(f\"detAy (scipy) = {det_Ay_scipy}\")\n",
        "print(f\"detAz (scipy) = {det_Az_scipy}\")\n",
        "\n",
        "if det_A_scipy != 0:\n",
        "    x_scipy = det_Ax_scipy / det_A_scipy\n",
        "    y_scipy = det_Ay_scipy / det_A_scipy\n",
        "    z_scipy = det_Az_scipy / det_A_scipy\n",
        "    print(f\"Nghiệm (scipy): x = {x_scipy}, y = {y_scipy}, z = {z_scipy}\")\n",
        "else:\n",
        "    print(\"Định thức của ma trận A bằng 0. Hệ phương trình có thể không có nghiệm duy nhất.\")\n",
        "\n",
        "print(\"\\n--- Giải hệ phương trình bằng tinhtoan_dinhtuc() tự định nghĩa ---\")\n",
        "det_A_custom = tinhtoan_dinhtuc(A)\n",
        "det_Ax_custom = tinhtoan_dinhtuc(Ax)\n",
        "det_Ay_custom = tinhtoan_dinhtuc(Ay)\n",
        "det_Az_custom = tinhtoan_dinhtuc(Az)\n",
        "\n",
        "print(f\"detA (custom) = {det_A_custom}\")\n",
        "print(f\"detAx (custom) = {det_Ax_custom}\")\n",
        "print(f\"detAy (custom) = {det_Ay_custom}\")\n",
        "print(f\"detAz (custom) = {det_Az_custom}\")\n",
        "\n",
        "if det_A_custom != 0:\n",
        "    x_custom = det_Ax_custom / det_A_custom\n",
        "    y_custom = det_Ay_custom / det_A_custom\n",
        "    z_custom = det_Az_custom / det_A_custom\n",
        "    print(f\"Nghiệm (custom): x = {x_custom}, y = {y_custom}, z = {z_custom}\")\n",
        "else:\n",
        "    print(\"Định thức của ma trận A bằng 0. Hệ phương trình có thể không có nghiệm duy nhất.\")"
      ],
      "metadata": {
        "colab": {
          "base_uri": "https://localhost:8080/"
        },
        "id": "dFI__DB6Vd_K",
        "outputId": "a74fbcf3-8563-4770-e3d5-60c0dc78e89e"
      },
      "execution_count": 9,
      "outputs": [
        {
          "output_type": "stream",
          "name": "stdout",
          "text": [
            "--- Giải hệ phương trình bằng scipy.linalg.det() ---\n",
            "detA (scipy) = 0.0\n",
            "detAx (scipy) = 0.0\n",
            "detAy (scipy) = 0.0\n",
            "detAz (scipy) = 0.0\n",
            "Định thức của ma trận A bằng 0. Hệ phương trình có thể không có nghiệm duy nhất.\n",
            "\n",
            "--- Giải hệ phương trình bằng tinhtoan_dinhtuc() tự định nghĩa ---\n",
            "detA (custom) = 0.0\n",
            "detAx (custom) = 0.0\n",
            "detAy (custom) = 0.0\n",
            "detAz (custom) = 0.0\n",
            "Định thức của ma trận A bằng 0. Hệ phương trình có thể không có nghiệm duy nhất.\n"
          ]
        }
      ]
    },
    {
      "cell_type": "code",
      "source": [
        "import numpy as np\n",
        "from itertools import permutations\n",
        "\n",
        "def sgn_by_def(sigma):\n",
        "    ket_qua = 1.0\n",
        "    n = len(sigma)\n",
        "    X = np.array(range(1, n + 1))\n",
        "\n",
        "    for i in range(len(X) - 1):\n",
        "        for j in range(i + 1, len(X)):\n",
        "            denominator = sigma[i] - sigma[j]\n",
        "            if denominator == 0:\n",
        "                return 0\n",
        "            ket_qua = ket_qua * ((X[i] - X[j]) / (denominator))\n",
        "    return int(ket_qua)\n",
        "\n",
        "def tinhtoan_dinhtuc(A_matrix):\n",
        "    n = A_matrix.shape[0]\n",
        "    X = list(range(1, n + 1))\n",
        "\n",
        "    Sn = list(permutations(X))\n",
        "    dinhtuc_val = 0.0\n",
        "\n",
        "    for sn in Sn:\n",
        "        sigma = np.array(sn)\n",
        "        product = 1.0\n",
        "\n",
        "        for i in range(n):\n",
        "            product = product * A_matrix[i][sn[i]-1]\n",
        "\n",
        "        dau = sgn_by_def(sigma)\n",
        "        dinhtuc_val = dinhtuc_val + (dau * product)\n",
        "    return dinhtuc_val\n",
        "\n",
        "A = np.array([[-1, 2, -3],\n",
        "              [2, -2, 1],\n",
        "              [3, -4, 4]])\n",
        "\n",
        "Ax = np.array([[1, 2, -3],\n",
        "               [3, -2, 1],\n",
        "               [2, -4, 4]])\n",
        "\n",
        "Ay = np.array([[-1, 1, -3],\n",
        "               [2, 3, 1],\n",
        "               [3, 2, 4]])\n",
        "\n",
        "Az = np.array([[-1, 2, 1],\n",
        "               [2, -2, 3],\n",
        "               [3, -4, 2]])\n",
        "\n",
        "det = tinhtoan_dinhtuc(A)\n",
        "detX = tinhtoan_dinhtuc(Ax)\n",
        "detY = tinhtoan_dinhtuc(Ay)\n",
        "detZ = tinhtoan_dinhtuc(Az)\n",
        "\n",
        "if det != 0:\n",
        "    x = detX / det\n",
        "    y = detY / det\n",
        "    z = detZ / det\n",
        "\n",
        "    print(f\"Nghiệm, x = {x}, y = {y}, z = {z}\")\n",
        "else:\n",
        "    print(\"Định thức của ma trận hệ số bằng 0. Hệ phương trình có thể không có nghiệm duy nhất.\")"
      ],
      "metadata": {
        "colab": {
          "base_uri": "https://localhost:8080/"
        },
        "id": "VVnvSwPlWBGp",
        "outputId": "b556c36e-5e89-4121-d6f5-823c6097a719"
      },
      "execution_count": 10,
      "outputs": [
        {
          "output_type": "stream",
          "name": "stdout",
          "text": [
            "Định thức của ma trận hệ số bằng 0. Hệ phương trình có thể không có nghiệm duy nhất.\n"
          ]
        }
      ]
    },
    {
      "cell_type": "code",
      "source": [
        "import sympy as sp\n",
        "\n",
        "TG = sp.Matrix([[1, 0, 1],\n",
        "                [4, 3, 1],\n",
        "                [2, 2, 1]])\n",
        "\n",
        "result = (1/2) * TG.det()\n",
        "\n",
        "print(result)"
      ],
      "metadata": {
        "colab": {
          "base_uri": "https://localhost:8080/"
        },
        "id": "dolF7pMXWVLz",
        "outputId": "eabec788-8e47-4afb-8811-76c811519c81"
      },
      "execution_count": 11,
      "outputs": [
        {
          "output_type": "stream",
          "name": "stdout",
          "text": [
            "1.50000000000000\n"
          ]
        }
      ]
    },
    {
      "cell_type": "code",
      "source": [
        "import sympy as sp\n",
        "\n",
        "M = sp.Matrix([[0, 4, 1, 1],\n",
        "               [4, 0, 0, 1],\n",
        "               [3, 5, 2, 1],\n",
        "               [2, 2, 5, 1]])\n",
        "\n",
        "det_M = M.det()\n",
        "print(det_M)\n",
        "\n",
        "result = (1/6) * M.det()\n",
        "print(result)"
      ],
      "metadata": {
        "colab": {
          "base_uri": "https://localhost:8080/"
        },
        "id": "w_ll1Jh_Wk82",
        "outputId": "167031fa-934b-4465-94ff-84064519efc4"
      },
      "execution_count": 12,
      "outputs": [
        {
          "output_type": "stream",
          "name": "stdout",
          "text": [
            "-72\n",
            "-12.0000000000000\n"
          ]
        }
      ]
    },
    {
      "cell_type": "markdown",
      "source": [
        "bài tập về nhà"
      ],
      "metadata": {
        "id": "l9m3zt0HW9I7"
      }
    },
    {
      "cell_type": "code",
      "source": [
        "import numpy as np\n",
        "from scipy import linalg\n",
        "\n",
        "def get_minor_matrix(matrix, i, j):\n",
        "    return np.delete(np.delete(matrix, i, axis=0), j, axis=1)\n",
        "\n",
        "def calculate_cofactor(matrix, i, j):\n",
        "    minor_matrix = get_minor_matrix(matrix, i, j)\n",
        "    if minor_matrix.shape == (1, 1):\n",
        "        det_minor = minor_matrix[0, 0]\n",
        "    else:\n",
        "        det_minor = linalg.det(minor_matrix)\n",
        "\n",
        "    return ((-1)**(i + j)) * det_minor\n",
        "\n",
        "def calculate_cofactor_matrix(matrix):\n",
        "    n = matrix.shape[0]\n",
        "    cofactor_matrix = np.zeros((n, n))\n",
        "\n",
        "    for i in range(n):\n",
        "        for j in range(n):\n",
        "            cofactor_matrix[i, j] = calculate_cofactor(matrix, i, j)\n",
        "    return cofactor_matrix\n",
        "\n",
        "def calculate_adjoint_matrix(matrix):\n",
        "    cofactor_mat = calculate_cofactor_matrix(matrix)\n",
        "    return cofactor_mat.T\n",
        "\n",
        "if __name__ == \"__main__\":\n",
        "    A_2x2 = np.array([[4, 7],\n",
        "                      [2, 6]])\n",
        "    print(A_2x2)\n",
        "\n",
        "    cofactor_A_2x2 = calculate_cofactor_matrix(A_2x2)\n",
        "    print(cofactor_A_2x2)\n",
        "\n",
        "    adjoint_A_2x2 = calculate_adjoint_matrix(A_2x2)\n",
        "\n",
        "    print(adjoint_A_2x2)\n",
        "\n",
        "    A_3x3 = np.array([[-1, 2, -3],\n",
        "                      [2, -2, 1],\n",
        "                      [3, -4, 4]])\n",
        "    print(\"\\n--- Ma trận A (3x3) ---\")\n",
        "    print(A_3x3)\n",
        "\n",
        "    cofactor_A_3x3 = calculate_cofactor_matrix(A_3x3)\n",
        "\n",
        "    print(cofactor_A_3x3)\n",
        "\n",
        "    adjoint_A_3x3 = calculate_adjoint_matrix(A_3x3)\n",
        "\n",
        "    print(adjoint_A_3x3)"
      ],
      "metadata": {
        "colab": {
          "base_uri": "https://localhost:8080/"
        },
        "id": "Xrun5ukXW_k9",
        "outputId": "bc8fbe11-287e-4cb8-e74a-573c8e3829de"
      },
      "execution_count": 13,
      "outputs": [
        {
          "output_type": "stream",
          "name": "stdout",
          "text": [
            "--- Ma trận A (2x2) ---\n",
            "[[4 7]\n",
            " [2 6]]\n",
            "\n",
            "a. Ma trận hệ số kép (Cofactor Matrix) của A (2x2):\n",
            "[[ 6. -2.]\n",
            " [-7.  4.]]\n",
            "\n",
            "b. Ma trận liên hợp (Adjoint Matrix) của A (2x2):\n",
            "[[ 6. -7.]\n",
            " [-2.  4.]]\n",
            "\n",
            "--- Ma trận A (3x3) ---\n",
            "[[-1  2 -3]\n",
            " [ 2 -2  1]\n",
            " [ 3 -4  4]]\n",
            "\n",
            "a. Ma trận hệ số kép (Cofactor Matrix) của A (3x3):\n",
            "[[-4. -5. -2.]\n",
            " [ 4.  5.  2.]\n",
            " [-4. -5. -2.]]\n",
            "\n",
            "b. Ma trận liên hợp (Adjoint Matrix) của A (3x3):\n",
            "[[-4.  4. -4.]\n",
            " [-5.  5. -5.]\n",
            " [-2.  2. -2.]]\n"
          ]
        }
      ]
    },
    {
      "cell_type": "code",
      "source": [
        "import sympy as sp\n",
        "\n",
        "# Khai báo biến\n",
        "x, y = sp.symbols('x y')\n",
        "x1, y1 = sp.symbols('x1 y1')\n",
        "x2, y2 = sp.symbols('x2 y2')\n",
        "x3, y3 = sp.symbols('x3 y3')\n",
        "\n",
        "# Tạo ma trận theo định thức đã cho\n",
        "M = sp.Matrix([\n",
        "    [x**2 + y**2, x, y, 1],\n",
        "    [x1**2 + y1**2, x1, y1, 1],\n",
        "    [x2**2 + y2**2, x2, y2, 1],\n",
        "    [x3**2 + y3**2, x3, y3, 1]\n",
        "])\n",
        "\n",
        "# Tính định thức\n",
        "det = M.det()\n",
        "\n",
        "# Hiển thị phương trình đường tròn\n",
        "print(\"Phương trình đường tròn là:\")\n",
        "sp.pprint(sp.Eq(det, 0))\n"
      ],
      "metadata": {
        "colab": {
          "base_uri": "https://localhost:8080/"
        },
        "id": "ojzW0ePwYViR",
        "outputId": "a3e61f70-b112-4525-f05d-b8020478e3c9"
      },
      "execution_count": 17,
      "outputs": [
        {
          "output_type": "stream",
          "name": "stdout",
          "text": [
            "Phương trình đường tròn là:\n",
            " 2          2          2          2          2          2             2        ↪\n",
            "x ⋅x₁⋅y₂ - x ⋅x₁⋅y₃ - x ⋅x₂⋅y₁ + x ⋅x₂⋅y₃ + x ⋅x₃⋅y₁ - x ⋅x₃⋅y₂ - x⋅x₁ ⋅y₂ + x ↪\n",
            "\n",
            "↪    2          2          2          2          2          2          2       ↪\n",
            "↪ ⋅x₁ ⋅y₃ + x⋅x₂ ⋅y₁ - x⋅x₂ ⋅y₃ - x⋅x₃ ⋅y₁ + x⋅x₃ ⋅y₂ - x⋅y₁ ⋅y₂ + x⋅y₁ ⋅y₃ +  ↪\n",
            "\n",
            "↪        2          2       2             2     2          2           2       ↪\n",
            "↪ x⋅y₁⋅y₂  - x⋅y₁⋅y₃  - x⋅y₂ ⋅y₃ + x⋅y₂⋅y₃  + x₁ ⋅x₂⋅y - x₁ ⋅x₂⋅y₃ - x₁ ⋅x₃⋅y  ↪\n",
            "\n",
            "↪     2              2          2           2          2          2          2 ↪\n",
            "↪ + x₁ ⋅x₃⋅y₂ - x₁⋅x₂ ⋅y + x₁⋅x₂ ⋅y₃ + x₁⋅x₃ ⋅y - x₁⋅x₃ ⋅y₂ + x₁⋅y ⋅y₂ - x₁⋅y  ↪\n",
            "\n",
            "↪              2          2        2              2     2          2           ↪\n",
            "↪ ⋅y₃ - x₁⋅y⋅y₂  + x₁⋅y⋅y₃  + x₁⋅y₂ ⋅y₃ - x₁⋅y₂⋅y₃  + x₂ ⋅x₃⋅y - x₂ ⋅x₃⋅y₁ - x ↪\n",
            "\n",
            "↪     2          2          2          2             2          2        2     ↪\n",
            "↪ ₂⋅x₃ ⋅y + x₂⋅x₃ ⋅y₁ - x₂⋅y ⋅y₁ + x₂⋅y ⋅y₃ + x₂⋅y⋅y₁  - x₂⋅y⋅y₃  - x₂⋅y₁ ⋅y₃  ↪\n",
            "\n",
            "↪           2       2          2             2          2        2             ↪\n",
            "↪ + x₂⋅y₁⋅y₃  + x₃⋅y ⋅y₁ - x₃⋅y ⋅y₂ - x₃⋅y⋅y₁  + x₃⋅y⋅y₂  + x₃⋅y₁ ⋅y₂ - x₃⋅y₁⋅ ↪\n",
            "\n",
            "↪   2    \n",
            "↪ y₂  = 0\n"
          ]
        }
      ]
    }
  ]
}