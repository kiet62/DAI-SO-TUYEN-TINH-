{
  "nbformat": 4,
  "nbformat_minor": 0,
  "metadata": {
    "colab": {
      "provenance": []
    },
    "kernelspec": {
      "name": "python3",
      "display_name": "Python 3"
    },
    "language_info": {
      "name": "python"
    }
  },
  "cells": [
    {
      "cell_type": "markdown",
      "source": [
        "bài tập trên lớp"
      ],
      "metadata": {
        "id": "cVS8OydxV7kH"
      }
    },
    {
      "cell_type": "code",
      "source": [
        "def scale(a, v):\n",
        "\n",
        "  return [a * vi for vi in v]\n",
        "\n",
        "\n",
        "v = [3, 5, 7]\n",
        "result = scale(10, v)\n",
        "print(result)"
      ],
      "metadata": {
        "colab": {
          "base_uri": "https://localhost:8080/"
        },
        "id": "4nqMqp4TWBjY",
        "outputId": "7825c451-e355-4496-c8f4-7496d9b2e2f5"
      },
      "execution_count": null,
      "outputs": [
        {
          "output_type": "stream",
          "name": "stdout",
          "text": [
            "[30, 50, 70]\n"
          ]
        }
      ]
    },
    {
      "cell_type": "code",
      "source": [
        "def sumvector(v, w):\n",
        "\n",
        "  return [vi + wi for (vi, wi) in zip(v, w)]\n",
        "\n",
        "\n",
        "v = [3, 5, 7]\n",
        "w = [2, 4, 6]\n",
        "result = sumvector(v, w)\n",
        "print(result)"
      ],
      "metadata": {
        "colab": {
          "base_uri": "https://localhost:8080/"
        },
        "id": "Gu0jNgtsWe2H",
        "outputId": "0e379428-c5d5-48e9-dc17-45f7aae18e04"
      },
      "execution_count": null,
      "outputs": [
        {
          "output_type": "stream",
          "name": "stdout",
          "text": [
            "[5, 9, 13]\n"
          ]
        }
      ]
    },
    {
      "cell_type": "code",
      "source": [
        "def dotvector(v, w):\n",
        "  products = [vi * wi for (vi, wi) in zip(v, w)]\n",
        "  return sum(products)\n",
        "v = [3, 5, 7]\n",
        "w = [2, 4, 6]\n",
        "result = dotvector(v, w)\n",
        "print(result)"
      ],
      "metadata": {
        "colab": {
          "base_uri": "https://localhost:8080/"
        },
        "id": "FnFRy4crWik0",
        "outputId": "d8155112-f155-429c-853a-7cb1c6d75ad9"
      },
      "execution_count": null,
      "outputs": [
        {
          "output_type": "stream",
          "name": "stdout",
          "text": [
            "68\n"
          ]
        }
      ]
    },
    {
      "cell_type": "code",
      "source": [
        "import math\n",
        "def dotvector(v, w):\n",
        "  return sum([vi * wi for (vi, wi) in zip(v, w)])\n",
        "def lenvector(v):\n",
        "  dot_product_vv = dotvector(v, v)\n",
        "  return math.sqrt(dot_product_vv)\n",
        "w = [2, 4, 6]\n",
        "length_of_w = lenvector(w)\n",
        "print(f\"Chiều dài của vector w {w} là: {length_of_w}\")\n",
        "v = [3, 5, 7]\n",
        "length_of_v = lenvector(v)\n",
        "print(f\"Chiều dài của vector v {v} là: {length_of_v}\")"
      ],
      "metadata": {
        "colab": {
          "base_uri": "https://localhost:8080/"
        },
        "id": "vYLXRN5MW2U0",
        "outputId": "6b591cc7-46c7-4437-a238-d864fc089de0"
      },
      "execution_count": null,
      "outputs": [
        {
          "output_type": "stream",
          "name": "stdout",
          "text": [
            "Chiều dài của vector w [2, 4, 6] là: 7.483314773547883\n",
            "Chiều dài của vector v [3, 5, 7] là: 9.1104335791443\n"
          ]
        }
      ]
    },
    {
      "cell_type": "code",
      "source": [
        "import numpy as np\n",
        "scores = np.array([-1, 1, 2, -3, 5, -4])\n",
        "print(\"Mảng scores ban đầu:\")\n",
        "print(scores)\n",
        "print(\"\\nKết quả scores >= 0:\")\n",
        "print(scores >= 0)\n",
        "print(\"\\nKết quả scores < 0:\")\n",
        "print(scores < 0)\n",
        "print(\"\\nKết quả sử dụng np.select:\")\n",
        "print(np.select([scores >= 0, scores < 0], ['so duong', 'so am'], default=''))"
      ],
      "metadata": {
        "colab": {
          "base_uri": "https://localhost:8080/"
        },
        "id": "uPcjSy23Xtym",
        "outputId": "9aa8d2d3-615e-4ba2-9aff-2cff39536e42"
      },
      "execution_count": null,
      "outputs": [
        {
          "output_type": "stream",
          "name": "stdout",
          "text": [
            "Mảng scores ban đầu:\n",
            "[-1  1  2 -3  5 -4]\n",
            "\n",
            "Kết quả scores >= 0:\n",
            "[False  True  True False  True False]\n",
            "\n",
            "Kết quả scores < 0:\n",
            "[ True False False  True False  True]\n",
            "\n",
            "Kết quả sử dụng np.select:\n",
            "['so am' 'so duong' 'so duong' 'so am' 'so duong' 'so am']\n"
          ]
        }
      ]
    },
    {
      "cell_type": "code",
      "source": [
        "import numpy as np\n",
        "\n",
        "scores = np.array([-1, 1, 2, 0, -3, 5, 0, -4])\n",
        "print(\"Mảng scores ban đầu:\")\n",
        "print(scores)\n",
        "\n",
        "print(\"\\nKết quả sử dụng np.select với 3 điều kiện:\")\n",
        "\n",
        "result = np.select([scores > 0, scores == 0, scores < 0], ['so duong', 'so 0', 'so am'], default='')\n",
        "print(result)"
      ],
      "metadata": {
        "colab": {
          "base_uri": "https://localhost:8080/"
        },
        "id": "jTc7hUS4YE35",
        "outputId": "5d535327-4e7e-4913-af19-f84331f20f17"
      },
      "execution_count": null,
      "outputs": [
        {
          "output_type": "stream",
          "name": "stdout",
          "text": [
            "Mảng scores ban đầu:\n",
            "[-1  1  2  0 -3  5  0 -4]\n",
            "\n",
            "Kết quả sử dụng np.select với 3 điều kiện:\n",
            "['so am' 'so duong' 'so duong' 'so 0' 'so am' 'so duong' 'so 0' 'so am']\n"
          ]
        }
      ]
    },
    {
      "cell_type": "code",
      "source": [
        "import numpy as np\n",
        "from scipy import linalg, sparse\n",
        "D = np.asmatrix([ [3,4], [5,6] ])\n",
        "print(D)"
      ],
      "metadata": {
        "colab": {
          "base_uri": "https://localhost:8080/"
        },
        "id": "KeaP8bx6YoZI",
        "outputId": "95a72897-a69f-4d3e-c57d-e59b23605950"
      },
      "execution_count": null,
      "outputs": [
        {
          "output_type": "stream",
          "name": "stdout",
          "text": [
            "[[3 4]\n",
            " [5 6]]\n"
          ]
        }
      ]
    },
    {
      "cell_type": "code",
      "source": [
        "\n",
        "C = np.asmatrix(np.random.random((5, 7)))\n",
        "print(C)"
      ],
      "metadata": {
        "colab": {
          "base_uri": "https://localhost:8080/"
        },
        "id": "4q06WW7UYrFJ",
        "outputId": "3ff564f8-05d0-42ad-a947-1df75ba8d13b"
      },
      "execution_count": null,
      "outputs": [
        {
          "output_type": "stream",
          "name": "stdout",
          "text": [
            "[[0.20131779 0.17226367 0.32121752 0.06502579 0.29238684 0.81130361\n",
            "  0.31874972]\n",
            " [0.10281795 0.29259282 0.59418686 0.31523611 0.06756316 0.44025283\n",
            "  0.32640887]\n",
            " [0.06341934 0.46505559 0.74505945 0.10958074 0.08934391 0.4260512\n",
            "  0.00158478]\n",
            " [0.11858551 0.77972386 0.9273475  0.56088986 0.71162225 0.52062623\n",
            "  0.84696394]\n",
            " [0.80427264 0.27597842 0.12287488 0.76756832 0.23538867 0.44751481\n",
            "  0.40021333]]\n"
          ]
        }
      ]
    },
    {
      "cell_type": "code",
      "source": [
        "\n",
        "A = np.asmatrix(np.random.random((2, 2)))\n",
        "print(A)"
      ],
      "metadata": {
        "colab": {
          "base_uri": "https://localhost:8080/"
        },
        "id": "moLgA3ORY_Q5",
        "outputId": "10b244bd-9e5e-490a-f7b5-eb9bea5c6560"
      },
      "execution_count": null,
      "outputs": [
        {
          "output_type": "stream",
          "name": "stdout",
          "text": [
            "[[0.86483987 0.12234906]\n",
            " [0.15538963 0.01246418]]\n"
          ]
        }
      ]
    },
    {
      "cell_type": "code",
      "source": [
        "\n",
        "from scipy import linalg, sparse\n",
        "b = np.array([(1+5j, 2j, 3j),(4, 5, 6)])\n",
        "B = np.asmatrix(b)\n",
        "print(\"Giá trị của b (ndarray):\")\n",
        "print(b)\n",
        "print(\"\\nGiá trị của B (matrix):\")\n",
        "print(B)\n"
      ],
      "metadata": {
        "colab": {
          "base_uri": "https://localhost:8080/"
        },
        "id": "9RgVJUspZK8p",
        "outputId": "eb7b451e-e09e-48ce-8ae2-95e474344670"
      },
      "execution_count": null,
      "outputs": [
        {
          "output_type": "stream",
          "name": "stdout",
          "text": [
            "Giá trị của b (ndarray):\n",
            "[[1.+5.j 0.+2.j 0.+3.j]\n",
            " [4.+0.j 5.+0.j 6.+0.j]]\n",
            "\n",
            "Giá trị của B (matrix):\n",
            "[[1.+5.j 0.+2.j 0.+3.j]\n",
            " [4.+0.j 5.+0.j 6.+0.j]]\n"
          ]
        }
      ]
    },
    {
      "cell_type": "code",
      "source": [
        "\n",
        "A = np.asmatrix(np.random.random((2, 2)))\n",
        "print(\"Ma trận A ban đầu:\")\n",
        "print(A)\n",
        "print(\"\\nMa trận chuyển vị A.T:\")\n",
        "A_T = A.T\n",
        "print(A_T)\n",
        "print(\"\\nMa trận nghịch đảo A.I:\")\n",
        "try:\n",
        "    A_I = A.I\n",
        "    print(A_I)\n",
        "except np.linalg.LinAlgError:\n",
        "    print(\"Ma trận A không khả nghịch (singular), không thể tính nghịch đảo.\")"
      ],
      "metadata": {
        "colab": {
          "base_uri": "https://localhost:8080/"
        },
        "id": "jux5jLfCZhRU",
        "outputId": "110fd9eb-5c08-499c-a814-ef5e005a889c"
      },
      "execution_count": null,
      "outputs": [
        {
          "output_type": "stream",
          "name": "stdout",
          "text": [
            "Ma trận A ban đầu:\n",
            "[[0.98380072 0.38711244]\n",
            " [0.8779089  0.92857016]]\n",
            "\n",
            "Ma trận chuyển vị A.T:\n",
            "[[0.98380072 0.8779089 ]\n",
            " [0.38711244 0.92857016]]\n",
            "\n",
            "Ma trận nghịch đảo A.I:\n",
            "[[ 1.61862456 -0.67478984]\n",
            " [-1.53031507  1.71489896]]\n"
          ]
        }
      ]
    },
    {
      "cell_type": "code",
      "source": [
        "\n",
        "from scipy import linalg\n",
        "A = np.array([ [3, 1, 2], [0, 5, 1], [4, -1, 3] ])\n",
        "print(\"Ma trận A dùng cho linalg.inv:\")\n",
        "print(A)\n",
        "print(\"\\nMa trận nghịch đảo của A (sử dụng linalg.inv):\")\n",
        "try:\n",
        "    A_inv = linalg.inv(A)\n",
        "    print(A_inv)\n",
        "except np.linalg.LinAlgError:\n",
        "    print(\"Ma trận A không khả nghịch (singular), không thể tính nghịch đảo bằng linalg.inv.\")\n",
        "M = np.array([[-1,3,2],[0,2,1],[1,5,-2]])\n",
        "print(\"\\nMa trận M đã định nghĩa:\")\n",
        "print(M)"
      ],
      "metadata": {
        "colab": {
          "base_uri": "https://localhost:8080/"
        },
        "id": "xooYFfYxZ1qA",
        "outputId": "d90270e3-d25d-4858-9b45-448c180142eb"
      },
      "execution_count": null,
      "outputs": [
        {
          "output_type": "stream",
          "name": "stdout",
          "text": [
            "Ma trận A dùng cho linalg.inv:\n",
            "[[ 3  1  2]\n",
            " [ 0  5  1]\n",
            " [ 4 -1  3]]\n",
            "\n",
            "Ma trận nghịch đảo của A (sử dụng linalg.inv):\n",
            "[[ 1.33333333 -0.41666667 -0.75      ]\n",
            " [ 0.33333333  0.08333333 -0.25      ]\n",
            " [-1.66666667  0.58333333  1.25      ]]\n",
            "\n",
            "Ma trận M đã định nghĩa:\n",
            "[[-1  3  2]\n",
            " [ 0  2  1]\n",
            " [ 1  5 -2]]\n"
          ]
        }
      ]
    },
    {
      "cell_type": "code",
      "source": [
        "\n",
        "M = np.array([[-1, 3, 2],\n",
        "              [ 0, 2, 1],\n",
        "              [ 1, 5,-2]])\n",
        "M_lower = np.tril(M)\n",
        "print(M_lower)\n",
        "M = np.array([[-1,3,2],[0,2,1],[1,5,-2]])"
      ],
      "metadata": {
        "colab": {
          "base_uri": "https://localhost:8080/"
        },
        "id": "v4b3ysujaHr7",
        "outputId": "ca9bd775-59ca-4105-e6d4-cf888ffeec12"
      },
      "execution_count": null,
      "outputs": [
        {
          "output_type": "stream",
          "name": "stdout",
          "text": [
            "[[-1  0  0]\n",
            " [ 0  2  0]\n",
            " [ 1  5 -2]]\n"
          ]
        }
      ]
    },
    {
      "cell_type": "code",
      "source": [
        "\n",
        "M = np.array([[-1, 3, 2],\n",
        "              [ 0, 2, 1],\n",
        "              [ 1, 5,-2]])\n",
        "M_upper = np.triu(M)\n",
        "print(M_upper)\n",
        "M = np.array([[-1,3,2],[0,2,1],[1,5,-2]])"
      ],
      "metadata": {
        "colab": {
          "base_uri": "https://localhost:8080/"
        },
        "id": "6PpnH8vEafdX",
        "outputId": "7d1f8051-a487-404b-9843-50191a3d85b1"
      },
      "execution_count": null,
      "outputs": [
        {
          "output_type": "stream",
          "name": "stdout",
          "text": [
            "[[-1  3  2]\n",
            " [ 0  2  1]\n",
            " [ 0  0 -2]]\n"
          ]
        }
      ]
    },
    {
      "cell_type": "code",
      "source": [
        "\n",
        "M = np.array([[-1, 3, 2],\n",
        "              [ 0, 2, 1],\n",
        "              [ 1, 5,-2]])\n",
        "v_diag = np.diag(M)\n",
        "print(v_diag)\n",
        "M_diag = np.diag(v_diag)\n",
        "print(M_diag)"
      ],
      "metadata": {
        "colab": {
          "base_uri": "https://localhost:8080/"
        },
        "id": "jJyBCrdJanWM",
        "outputId": "562afde7-e266-400d-bcd5-388517f66853"
      },
      "execution_count": null,
      "outputs": [
        {
          "output_type": "stream",
          "name": "stdout",
          "text": [
            "[-1  2 -2]\n",
            "[[-1  0  0]\n",
            " [ 0  2  0]\n",
            " [ 0  0 -2]]\n"
          ]
        }
      ]
    },
    {
      "cell_type": "code",
      "source": [
        "import sympy as sp\n",
        "x = sp.Symbol('x')\n",
        "y = sp.Symbol('y')\n",
        "z = sp.Symbol('z')\n",
        "equations = [\n",
        "    x**2 + 2 - 6,\n",
        "    y - 1 - 6,\n",
        "    x + z - 1,\n",
        "    2*x**2 - 8,\n",
        "    z**2 + 4 - 5,\n",
        "    y - z - 8\n",
        "]\n",
        "\n",
        "solution = sp.solve(equations, [x, y, z])\n",
        "print(solution)"
      ],
      "metadata": {
        "colab": {
          "base_uri": "https://localhost:8080/"
        },
        "id": "cNVOzDerbe97",
        "outputId": "832de269-508d-4908-c7fa-ece3a353f31f"
      },
      "execution_count": null,
      "outputs": [
        {
          "output_type": "stream",
          "name": "stdout",
          "text": [
            "[(2, 7, -1)]\n"
          ]
        }
      ]
    },
    {
      "cell_type": "code",
      "source": [
        "import numpy as np\n",
        "\n",
        "A = np.reshape(np.arange(36.0), (6, 6))\n",
        "print(\"Ma trận A:\")\n",
        "print(A)\n",
        "print(\"\\nMa trận đơn vị 6x6:\")\n",
        "I = np.eye(6)\n",
        "print(I)\n",
        "B = np.zeros((6, 6))\n",
        "print(\"\\nMa trận B ban đầu (zeroes):\")\n",
        "print(B)\n",
        "B[0:3, 0:3] = A[0:3, 0:3]\n",
        "B[3:6, 0:3] = A[3:6, 0:3]\n",
        "B[0:3, 3:6] = A[0:3, 3:6]\n",
        "B[3:6, 3:6] = A[3:6, 3:6]\n",
        "A_flat = A.flatten()\n",
        "B[0:3, 0:3] = A_flat[0:9].reshape(3, 3)\n",
        "B[0:3, 3:6] = A_flat[9:18].reshape(3, 3)\n",
        "B[3:6, 0:3] = A_flat[18:27].reshape(3, 3)\n",
        "B[3:6, 3:6] = A_flat[27:36].reshape(3, 3)\n",
        "print(\"\\nMa trận B sau khi gán các khối:\")\n",
        "print(B)\n"
      ],
      "metadata": {
        "colab": {
          "base_uri": "https://localhost:8080/"
        },
        "id": "_QF-N9dWc_Eh",
        "outputId": "73c46619-65d6-47d0-9b16-2f721e2b61a5"
      },
      "execution_count": null,
      "outputs": [
        {
          "output_type": "stream",
          "name": "stdout",
          "text": [
            "Ma trận A:\n",
            "[[ 0.  1.  2.  3.  4.  5.]\n",
            " [ 6.  7.  8.  9. 10. 11.]\n",
            " [12. 13. 14. 15. 16. 17.]\n",
            " [18. 19. 20. 21. 22. 23.]\n",
            " [24. 25. 26. 27. 28. 29.]\n",
            " [30. 31. 32. 33. 34. 35.]]\n",
            "\n",
            "Ma trận đơn vị 6x6:\n",
            "[[1. 0. 0. 0. 0. 0.]\n",
            " [0. 1. 0. 0. 0. 0.]\n",
            " [0. 0. 1. 0. 0. 0.]\n",
            " [0. 0. 0. 1. 0. 0.]\n",
            " [0. 0. 0. 0. 1. 0.]\n",
            " [0. 0. 0. 0. 0. 1.]]\n",
            "\n",
            "Ma trận B ban đầu (zeroes):\n",
            "[[0. 0. 0. 0. 0. 0.]\n",
            " [0. 0. 0. 0. 0. 0.]\n",
            " [0. 0. 0. 0. 0. 0.]\n",
            " [0. 0. 0. 0. 0. 0.]\n",
            " [0. 0. 0. 0. 0. 0.]\n",
            " [0. 0. 0. 0. 0. 0.]]\n",
            "\n",
            "Ma trận B sau khi gán các khối:\n",
            "[[ 0.  1.  2.  9. 10. 11.]\n",
            " [ 3.  4.  5. 12. 13. 14.]\n",
            " [ 6.  7.  8. 15. 16. 17.]\n",
            " [18. 19. 20. 27. 28. 29.]\n",
            " [21. 22. 23. 30. 31. 32.]\n",
            " [24. 25. 26. 33. 34. 35.]]\n"
          ]
        }
      ]
    },
    {
      "cell_type": "code",
      "source": [
        "import numpy as np\n",
        "I6 = np.identity(6)\n",
        "print(I6)"
      ],
      "metadata": {
        "colab": {
          "base_uri": "https://localhost:8080/"
        },
        "id": "MDHU_f1hdWKO",
        "outputId": "2e8596b7-ca57-4df3-fc6f-55626dd91e13"
      },
      "execution_count": null,
      "outputs": [
        {
          "output_type": "stream",
          "name": "stdout",
          "text": [
            "[[1. 0. 0. 0. 0. 0.]\n",
            " [0. 1. 0. 0. 0. 0.]\n",
            " [0. 0. 1. 0. 0. 0.]\n",
            " [0. 0. 0. 1. 0. 0.]\n",
            " [0. 0. 0. 0. 1. 0.]\n",
            " [0. 0. 0. 0. 0. 1.]]\n"
          ]
        }
      ]
    },
    {
      "cell_type": "code",
      "source": [
        "import numpy as np\n",
        "A = np.array([[1, 2, 3], [4, 5, 6]])\n",
        "size_of_A = A.size\n",
        "print(size_of_A)"
      ],
      "metadata": {
        "colab": {
          "base_uri": "https://localhost:8080/"
        },
        "id": "4CJo4xmfdhrt",
        "outputId": "4bb12e12-4492-4f34-dbe0-360b086807e0"
      },
      "execution_count": null,
      "outputs": [
        {
          "output_type": "stream",
          "name": "stdout",
          "text": [
            "6\n"
          ]
        }
      ]
    },
    {
      "cell_type": "code",
      "source": [
        "import numpy as np\n",
        "A = np.array([[1, 2, 3], [4, 5, 6], [7, 8, 9]])\n",
        "A_matrix = np.asmatrix(A)\n",
        "diagonal_elements = np.matrix.diagonal(A_matrix)\n",
        "print(diagonal_elements)"
      ],
      "metadata": {
        "colab": {
          "base_uri": "https://localhost:8080/"
        },
        "id": "6_d915nSdt1o",
        "outputId": "5d7b253b-980a-4ac4-88a0-b86aa3a5588b"
      },
      "execution_count": null,
      "outputs": [
        {
          "output_type": "stream",
          "name": "stdout",
          "text": [
            "[[1 5 9]]\n"
          ]
        }
      ]
    },
    {
      "cell_type": "code",
      "source": [
        "import numpy as np\n",
        "A = np.array([\n",
        "    [0, 1, 2, 3, 4, 5],\n",
        "    [6, 7, 8, 9, 10, 11],\n",
        "    [12, 13, 14, 15, 16, 17],\n",
        "    [18, 19, 20, 21, 22, 23],\n",
        "    [24, 25, 26, 27, 28, 29],\n",
        "    [30, 31, 32, 33, 34, 35]\n",
        "])\n",
        "I6 = np.identity(6)\n",
        "A = A + I6\n",
        "print(A)"
      ],
      "metadata": {
        "colab": {
          "base_uri": "https://localhost:8080/"
        },
        "id": "fDc0jTSXd7wV",
        "outputId": "cf9a1d6b-e000-4f20-e911-bb3308d155b9"
      },
      "execution_count": null,
      "outputs": [
        {
          "output_type": "stream",
          "name": "stdout",
          "text": [
            "[[ 1.  1.  2.  3.  4.  5.]\n",
            " [ 6.  8.  8.  9. 10. 11.]\n",
            " [12. 13. 15. 15. 16. 17.]\n",
            " [18. 19. 20. 22. 22. 23.]\n",
            " [24. 25. 26. 27. 29. 29.]\n",
            " [30. 31. 32. 33. 34. 36.]]\n"
          ]
        }
      ]
    },
    {
      "cell_type": "code",
      "source": [
        "import numpy as np\n",
        "A = np.reshape(np.arange(36.0), (6, 6))\n",
        "print(\"Ma trận A:\")\n",
        "print(A)\n",
        "vecB = np.array([[1., 2., 3., 4., 5., 6.]]).T\n",
        "print(\"\\nVector vecB:\")\n",
        "print(vecB)\n",
        "C = A.dot(vecB)\n",
        "print(\"\\nKết quả C = A.dot(vecB):\")\n",
        "print(C)\n",
        "D = np.array([[1., 2., 3., 4., 5., 6.],\n",
        "              [1., 0., 1., 0., 1., 0.]])\n",
        "print(\"\\nMa trận D:\")\n",
        "print(D)\n",
        "E = A.dot(D.T)\n",
        "print(\"\\nKết quả E = A.dot(D.T) (hoặc D.dot(A) nếu muốn):\")\n",
        "print(E)\n",
        "F = np.zeros((6, 2))\n",
        "print(\"\\nMa trận F kích thước 6x2 (ví dụ ma trận zeros):\")\n",
        "print(F)"
      ],
      "metadata": {
        "colab": {
          "base_uri": "https://localhost:8080/"
        },
        "id": "ZUAJYQiSeMVb",
        "outputId": "3a894a8a-f6ec-40ec-94eb-a2d3ff350b3e"
      },
      "execution_count": null,
      "outputs": [
        {
          "output_type": "stream",
          "name": "stdout",
          "text": [
            "Ma trận A:\n",
            "[[ 0.  1.  2.  3.  4.  5.]\n",
            " [ 6.  7.  8.  9. 10. 11.]\n",
            " [12. 13. 14. 15. 16. 17.]\n",
            " [18. 19. 20. 21. 22. 23.]\n",
            " [24. 25. 26. 27. 28. 29.]\n",
            " [30. 31. 32. 33. 34. 35.]]\n",
            "\n",
            "Vector vecB:\n",
            "[[1.]\n",
            " [2.]\n",
            " [3.]\n",
            " [4.]\n",
            " [5.]\n",
            " [6.]]\n",
            "\n",
            "Kết quả C = A.dot(vecB):\n",
            "[[ 70.]\n",
            " [196.]\n",
            " [322.]\n",
            " [448.]\n",
            " [574.]\n",
            " [700.]]\n",
            "\n",
            "Ma trận D:\n",
            "[[1. 2. 3. 4. 5. 6.]\n",
            " [1. 0. 1. 0. 1. 0.]]\n",
            "\n",
            "Kết quả E = A.dot(D.T) (hoặc D.dot(A) nếu muốn):\n",
            "[[ 70.   6.]\n",
            " [196.  24.]\n",
            " [322.  42.]\n",
            " [448.  60.]\n",
            " [574.  78.]\n",
            " [700.  96.]]\n",
            "\n",
            "Ma trận F kích thước 6x2 (ví dụ ma trận zeros):\n",
            "[[0. 0.]\n",
            " [0. 0.]\n",
            " [0. 0.]\n",
            " [0. 0.]\n",
            " [0. 0.]\n",
            " [0. 0.]]\n"
          ]
        }
      ]
    },
    {
      "cell_type": "code",
      "source": [
        "import numpy as np\n",
        "\n",
        "A = np.reshape(np.arange(36.0), (6, 6))\n",
        "print(\"Ma trận A:\")\n",
        "print(A)\n",
        "\n",
        "D = np.array([[1., 2., 3., 4., 5., 6.],\n",
        "              [1., 0., 1., 0., 1., 0.]])\n",
        "print(\"\\nMa trận D:\")\n",
        "print(D)\n",
        "\n",
        "try:\n",
        "    E_invalid = A.dot(D)\n",
        "    print(E_invalid)\n",
        "except ValueError as e:\n",
        "    print(f\"Lỗi: {e}.\")\n",
        "    print(\"Không thể thực hiện phép nhân A.dot(D) vì kích thước không tương thích.\")\n",
        "    print(\"Để nhân ma trận A (6x6) và D (2x6) một cách hợp lệ, bạn có thể thử:\")\n",
        "    print(\"1. Tính E = D.dot(A) (kích thước kết quả 2x6)\")\n",
        "    print(\"2. Tính E = A.dot(D.T) (kích thước kết quả 6x2)\")\n",
        "\n",
        "print(\"\\nTính tích ma trận E = A.dot(D.T) (A 6x6, D.T 6x2):\")\n",
        "E_valid_1 = A.dot(D.T)\n",
        "print(E_valid_1)\n",
        "\n",
        "print(\"\\nTính tích ma trận E = D.dot(A) (D 2x6, A 6x6):\")\n",
        "E_valid_2 = D.dot(A)\n",
        "print(E_valid_2)"
      ],
      "metadata": {
        "colab": {
          "base_uri": "https://localhost:8080/"
        },
        "id": "7NqqU15QfEWu",
        "outputId": "e7f73006-1c7c-450e-da37-be081d4fef96"
      },
      "execution_count": null,
      "outputs": [
        {
          "output_type": "stream",
          "name": "stdout",
          "text": [
            "Ma trận A:\n",
            "[[ 0.  1.  2.  3.  4.  5.]\n",
            " [ 6.  7.  8.  9. 10. 11.]\n",
            " [12. 13. 14. 15. 16. 17.]\n",
            " [18. 19. 20. 21. 22. 23.]\n",
            " [24. 25. 26. 27. 28. 29.]\n",
            " [30. 31. 32. 33. 34. 35.]]\n",
            "\n",
            "Ma trận D:\n",
            "[[1. 2. 3. 4. 5. 6.]\n",
            " [1. 0. 1. 0. 1. 0.]]\n",
            "Lỗi: shapes (6,6) and (2,6) not aligned: 6 (dim 1) != 2 (dim 0).\n",
            "Không thể thực hiện phép nhân A.dot(D) vì kích thước không tương thích.\n",
            "Để nhân ma trận A (6x6) và D (2x6) một cách hợp lệ, bạn có thể thử:\n",
            "1. Tính E = D.dot(A) (kích thước kết quả 2x6)\n",
            "2. Tính E = A.dot(D.T) (kích thước kết quả 6x2)\n",
            "\n",
            "Tính tích ma trận E = A.dot(D.T) (A 6x6, D.T 6x2):\n",
            "[[ 70.   6.]\n",
            " [196.  24.]\n",
            " [322.  42.]\n",
            " [448.  60.]\n",
            " [574.  78.]\n",
            " [700.  96.]]\n",
            "\n",
            "Tính tích ma trận E = D.dot(A) (D 2x6, A 6x6):\n",
            "[[420. 441. 462. 483. 504. 525.]\n",
            " [ 36.  39.  42.  45.  48.  51.]]\n"
          ]
        }
      ]
    },
    {
      "cell_type": "code",
      "source": [
        "import numpy as np\n",
        "\n",
        "A = np.reshape(np.arange(36.0), (6, 6))\n",
        "print(\"Ma trận A:\")\n",
        "print(A)\n",
        "\n",
        "F = np.array([[1., 1.],\n",
        "              [2., 0.],\n",
        "              [3., 1.],\n",
        "              [4., 0.],\n",
        "              [5., 1.],\n",
        "              [6., 0.]])\n",
        "\n",
        "G = A.dot(F)\n",
        "\n",
        "print(\"\\nMa trận F:\")\n",
        "print(F)\n",
        "\n",
        "print(\"\\nMa trận G (kết quả của A.dot(F)):\")\n",
        "print(G)\n",
        "\n",
        "try:\n",
        "    A_inv = np.linalg.inv(A)\n",
        "    print(A_inv)\n",
        "except np.linalg.LinAlgError as e:\n",
        "    print(f\"Lỗi: {e}.\")\n",
        "    print(\"Ma trận A là ma trận suy biến (singular matrix), không thể tính nghịch đảo.\")\n",
        "    print(\"Đây là điều thường xảy ra với ma trận được tạo từ np.arange() mà không có sự xáo trộn.\")\n",
        "\n",
        "A_random = np.random.rand(6, 6)\n",
        "try:\n",
        "    A_random_inv = np.linalg.inv(A_random)\n",
        "    print(\"Ma trận ngẫu nhiên (A_random):\")\n",
        "    print(A_random)\n",
        "    print(\"\\nNghịch đảo của A_random:\")\n",
        "    print(A_random_inv)\n",
        "except np.linalg.LinAlgError:\n",
        "    print(\"Ma trận ngẫu nhiên này cũng là suy biến (rất hiếm khi xảy ra với ma trận ngẫu nhiên lớn).\")"
      ],
      "metadata": {
        "colab": {
          "base_uri": "https://localhost:8080/"
        },
        "id": "kSo3HNsyfIXo",
        "outputId": "ce57bbd3-2b71-46ff-d266-cc48a0dd50d7"
      },
      "execution_count": null,
      "outputs": [
        {
          "output_type": "stream",
          "name": "stdout",
          "text": [
            "Ma trận A:\n",
            "[[ 0.  1.  2.  3.  4.  5.]\n",
            " [ 6.  7.  8.  9. 10. 11.]\n",
            " [12. 13. 14. 15. 16. 17.]\n",
            " [18. 19. 20. 21. 22. 23.]\n",
            " [24. 25. 26. 27. 28. 29.]\n",
            " [30. 31. 32. 33. 34. 35.]]\n",
            "\n",
            "Ma trận F:\n",
            "[[1. 1.]\n",
            " [2. 0.]\n",
            " [3. 1.]\n",
            " [4. 0.]\n",
            " [5. 1.]\n",
            " [6. 0.]]\n",
            "\n",
            "Ma trận G (kết quả của A.dot(F)):\n",
            "[[ 70.   6.]\n",
            " [196.  24.]\n",
            " [322.  42.]\n",
            " [448.  60.]\n",
            " [574.  78.]\n",
            " [700.  96.]]\n",
            "Lỗi: Singular matrix.\n",
            "Ma trận A là ma trận suy biến (singular matrix), không thể tính nghịch đảo.\n",
            "Đây là điều thường xảy ra với ma trận được tạo từ np.arange() mà không có sự xáo trộn.\n",
            "Ma trận ngẫu nhiên (A_random):\n",
            "[[0.46305765 0.23936402 0.5199007  0.16269463 0.55359564 0.04008829]\n",
            " [0.45286748 0.06508371 0.25987099 0.48125857 0.76455101 0.84829305]\n",
            " [0.1879672  0.41289859 0.99723716 0.59422665 0.24098689 0.5396773 ]\n",
            " [0.1590791  0.8565149  0.83839557 0.9819063  0.10093429 0.56747676]\n",
            " [0.13234858 0.38675031 0.79017996 0.63010905 0.09805579 0.55857867]\n",
            " [0.45940217 0.6129593  0.36461412 0.35612098 0.06501185 0.14791055]]\n",
            "\n",
            "Nghịch đảo của A_random:\n",
            "[[  2.23818719  -0.45532947  -6.78264236  -2.43204623   9.20094954\n",
            "    1.33622282]\n",
            " [ -3.79556728   0.94050638   9.6695452    1.90779187 -12.97091753\n",
            "    2.01844285]\n",
            " [  0.28717405  -0.60055467   1.49280598  -0.80725184   0.29971528\n",
            "   -0.11505174]\n",
            " [  4.95706016  -1.18339676 -12.7968746    0.5903732   13.95163037\n",
            "   -2.81775875]\n",
            " [  0.13298602   0.77702378   3.37019973   1.83682607  -5.99745832\n",
            "   -1.18719851]\n",
            " [ -3.92376558   1.50479191   6.64426905  -0.59113956  -6.51836243\n",
            "    1.83561962]]\n"
          ]
        }
      ]
    },
    {
      "cell_type": "code",
      "source": [
        "import numpy as np\n",
        "\n",
        "A = np.array([ [1,1],\n",
        "               [1,0] ])\n",
        "\n",
        "b = np.array([1, 0])\n",
        "\n",
        "n = 10\n",
        "\n",
        "for i in range(n):\n",
        "    b = A.dot(b)\n",
        "    print(b)"
      ],
      "metadata": {
        "colab": {
          "base_uri": "https://localhost:8080/"
        },
        "id": "h0foVX4JfiS1",
        "outputId": "b5b0a82d-1567-41c0-9559-5e25ca3da359"
      },
      "execution_count": null,
      "outputs": [
        {
          "output_type": "stream",
          "name": "stdout",
          "text": [
            "[1 1]\n",
            "[2 1]\n",
            "[3 2]\n",
            "[5 3]\n",
            "[8 5]\n",
            "[13  8]\n",
            "[21 13]\n",
            "[34 21]\n",
            "[55 34]\n",
            "[89 55]\n"
          ]
        }
      ]
    },
    {
      "cell_type": "code",
      "source": [
        "import sympy as sp\n",
        "from sympy import Symbol, solve\n",
        "\n",
        "x1 = Symbol('x1')\n",
        "x2 = Symbol('x2')\n",
        "x3 = Symbol('x3')\n",
        "x4 = Symbol('x4')\n",
        "\n",
        "pt1 = x4 + 610 - 450 - x1\n",
        "pt2 = x1 + 400 - x2 - 640\n",
        "pt3 = x2 + 600 - x3\n",
        "pt4 = x3 - x4 - 520\n",
        "\n",
        "nghiem = sp.solve((pt1, pt2, pt3, pt4), (x1, x2, x3, x4))\n",
        "\n",
        "print(nghiem)"
      ],
      "metadata": {
        "colab": {
          "base_uri": "https://localhost:8080/"
        },
        "id": "ilvqIf20fxCU",
        "outputId": "c2945066-b319-4b4d-ddf8-4b7f1dfbb2bf"
      },
      "execution_count": null,
      "outputs": [
        {
          "output_type": "stream",
          "name": "stdout",
          "text": [
            "{x1: x4 + 160, x2: x4 - 80, x3: x4 + 520}\n"
          ]
        }
      ]
    },
    {
      "cell_type": "code",
      "source": [
        "import numpy as np\n",
        "\n",
        "A = np.reshape(np.arange(36.0), (6, 6))\n",
        "print(\"Ma trận A:\")\n",
        "print(A)\n",
        "\n",
        "B = np.zeros((6, 6))\n",
        "print(\"\\nMa trận B ban đầu (zeroes):\")\n",
        "print(B)\n",
        "\n",
        "B[0:3, 0:3] = A[0:3, 0:3]\n",
        "\n",
        "A_flat = A.flatten()\n",
        "\n",
        "B[0:3, 0:3] = A_flat[0:9].reshape(3, 3)\n",
        "B[0:3, 3:6] = A_flat[9:18].reshape(3, 3)\n",
        "B[3:6, 0:3] = A_flat[18:27].reshape(3, 3)\n",
        "B[3:6, 3:6] = A_flat[27:36].reshape(3, 3)\n",
        "\n",
        "print(\"\\nMa trận B sau khi gán các khối (sử dụng flatten và reshape):\")\n",
        "print(B)"
      ],
      "metadata": {
        "colab": {
          "base_uri": "https://localhost:8080/"
        },
        "id": "v8-9vSl0gYyq",
        "outputId": "7107c367-8a74-4180-e5d6-f91077937e46"
      },
      "execution_count": null,
      "outputs": [
        {
          "output_type": "stream",
          "name": "stdout",
          "text": [
            "Ma trận A:\n",
            "[[ 0.  1.  2.  3.  4.  5.]\n",
            " [ 6.  7.  8.  9. 10. 11.]\n",
            " [12. 13. 14. 15. 16. 17.]\n",
            " [18. 19. 20. 21. 22. 23.]\n",
            " [24. 25. 26. 27. 28. 29.]\n",
            " [30. 31. 32. 33. 34. 35.]]\n",
            "\n",
            "Ma trận B ban đầu (zeroes):\n",
            "[[0. 0. 0. 0. 0. 0.]\n",
            " [0. 0. 0. 0. 0. 0.]\n",
            " [0. 0. 0. 0. 0. 0.]\n",
            " [0. 0. 0. 0. 0. 0.]\n",
            " [0. 0. 0. 0. 0. 0.]\n",
            " [0. 0. 0. 0. 0. 0.]]\n",
            "\n",
            "Ma trận B sau khi gán các khối (sử dụng flatten và reshape):\n",
            "[[ 0.  1.  2.  9. 10. 11.]\n",
            " [ 3.  4.  5. 12. 13. 14.]\n",
            " [ 6.  7.  8. 15. 16. 17.]\n",
            " [18. 19. 20. 27. 28. 29.]\n",
            " [21. 22. 23. 30. 31. 32.]\n",
            " [24. 25. 26. 33. 34. 35.]]\n"
          ]
        }
      ]
    },
    {
      "cell_type": "markdown",
      "source": [
        "BAI TAP VE NHA"
      ],
      "metadata": {
        "id": "7dZqtvJ0ZrC6"
      }
    },
    {
      "cell_type": "code",
      "source": [
        "import numpy as np\n",
        "\n",
        "def solve_problem_1():\n",
        "\n",
        "    A = np.array([[1, -1],\n",
        "                  [2,  3]])\n",
        "    B = np.array([-2, 6])\n",
        "    try:\n",
        "        solution = np.linalg.solve(A, B)\n",
        "\n",
        "        print(f\"  x - y = -2\")\n",
        "        print(f\"  2x + 3y = 6\")\n",
        "        print(f\"Nghiệm (x, y): {solution}\")\n",
        "        print(f\"Vậy, giao điểm là ({solution[0]:.4f}, {solution[1]:.4f})\\n\")\n",
        "    except np.linalg.LinAlgError:\n",
        "        print(\"Lỗi: Ma trận hệ số không khả nghịch hoặc không vuông.\\n\")\n",
        "\n",
        "def solve_problem_2():\n",
        "\n",
        "    A = np.array([[1, -1,  0],\n",
        "                  [2, -1, -1],\n",
        "                  [1,  1,  1]])\n",
        "    B = np.array([2, 3, 6])\n",
        "    try:\n",
        "        solution = np.linalg.solve(A, B)\n",
        "\n",
        "        print(f\"  x - y = 2\")\n",
        "        print(f\"  2x - y - z = 3\")\n",
        "        print(f\"  x + y + z = 6\")\n",
        "        print(f\"Nghiệm (x, y, z): {solution}\")\n",
        "        print(f\"Vậy, giao điểm là ({solution[0]:.4f}, {solution[1]:.4f}, {solution[2]:.4f})\\n\")\n",
        "    except np.linalg.LinAlgError:\n",
        "        print(\"Lỗi: Ma trận hệ số không khả nghịch hoặc không vuông.\\n\")\n",
        "\n",
        "def solve_problem_3():\n",
        "\n",
        "    A = np.array([[1, 1, 1],\n",
        "                  [4, 2, 1],\n",
        "                  [9, 3, 1]])\n",
        "    B = np.array([4, 3, 4])\n",
        "    try:\n",
        "        solution = np.linalg.solve(A, B)\n",
        "        a, b, c = solution\n",
        "        print(f\"Các điều kiện:\")\n",
        "        print(f\"  p(1) = 4\")\n",
        "        print(f\"  p(2) = 3\")\n",
        "        print(f\"  p(3) = 4\")\n",
        "        print(f\"Các hệ số (a, b, c): {solution}\")\n",
        "        print(f\"Vậy, đa thức bậc hai là: p(x) = {a:.4f}x^2 + {b:.4f}x + {c:.4f}\\n\")\n",
        "    except np.linalg.LinAlgError:\n",
        "        print(\"Lỗi: Ma trận hệ số không khả nghịch hoặc không vuông.\\n\")\n",
        "\n",
        "def solve_problem_4():\n",
        "\n",
        "    A = np.array([[1,  0, 1],\n",
        "                  [1,  1, -2],\n",
        "                  [-2, 2,  1]])\n",
        "    B = np.array([1, -3, 0])\n",
        "    try:\n",
        "        solution = np.linalg.solve(A, B)\n",
        "        a_pf, b_pf, c_pf = solution\n",
        "        print(f\"Biểu thức gốc: x(x-3) / ((x-1)^2 * (x+2))\")\n",
        "        print(f\"Các hệ số phân số từng phần (a, b, c): {solution}\")\n",
        "        print(f\"Phân tích phân số từng phần là:\")\n",
        "        print(f\"  ({a_pf:.4f})/(x-1) + ({b_pf:.4f})/((x-1)^2) + ({c_pf:.4f})/(x+2)\\n\")\n",
        "\n",
        "\n",
        "\n",
        "    except np.linalg.LinAlgError:\n",
        "        print(\"Lỗi: Ma trận hệ số không khả nghịch hoặc không vuông.\\n\")\n",
        "\n",
        "if __name__ == \"__main__\":\n",
        "    solve_problem_1()\n",
        "    solve_problem_2()\n",
        "    solve_problem_3()\n",
        "    solve_problem_4()"
      ],
      "metadata": {
        "colab": {
          "base_uri": "https://localhost:8080/"
        },
        "id": "yAwd4fj2Zu2m",
        "outputId": "ade75f2f-938c-4084-f806-b341e85ea32a"
      },
      "execution_count": 1,
      "outputs": [
        {
          "output_type": "stream",
          "name": "stdout",
          "text": [
            "  x - y = -2\n",
            "  2x + 3y = 6\n",
            "Nghiệm (x, y): [0. 2.]\n",
            "Vậy, giao điểm là (0.0000, 2.0000)\n",
            "\n",
            "  x - y = 2\n",
            "  2x - y - z = 3\n",
            "  x + y + z = 6\n",
            "Nghiệm (x, y, z): [3. 1. 2.]\n",
            "Vậy, giao điểm là (3.0000, 1.0000, 2.0000)\n",
            "\n",
            "Các điều kiện:\n",
            "  p(1) = 4\n",
            "  p(2) = 3\n",
            "  p(3) = 4\n",
            "Các hệ số (a, b, c): [ 1. -4.  7.]\n",
            "Vậy, đa thức bậc hai là: p(x) = 1.0000x^2 + -4.0000x + 7.0000\n",
            "\n",
            "Biểu thức gốc: x(x-3) / ((x-1)^2 * (x+2))\n",
            "Các hệ số phân số từng phần (a, b, c): [-0.11111111 -0.66666667  1.11111111]\n",
            "Phân tích phân số từng phần là:\n",
            "  (-0.1111)/(x-1) + (-0.6667)/((x-1)^2) + (1.1111)/(x+2)\n",
            "\n"
          ]
        }
      ]
    },
    {
      "cell_type": "code",
      "source": [
        "import sympy\n",
        "\n",
        "x, y, z = sympy.symbols('x y z')\n",
        "a, b, c = sympy.symbols('a b c')\n",
        "expr = x*(x-3) / ((x-1)**2 * (x+2))\n",
        "print(f\"Biểu thức gốc: {expr}\")\n",
        "\n",
        "partial_fraction_decomposition = sympy.apart(expr, x)\n",
        "print(f\"Phân tích phân số từng phần: {partial_fraction_decomposition}\")\n",
        "\n",
        "eq1_coeffs = sympy.Eq(a + c, 1)\n",
        "eq2_coeffs = sympy.Eq(a + b - 2*c, -3)\n",
        "eq3_coeffs = sympy.Eq(-2*a + 2*b + c, 0)\n",
        "\n",
        "coefficients_solution = sympy.solve((eq1_coeffs, eq2_coeffs, eq3_coeffs), (a, b, c))\n",
        "\n",
        "print(f\"Các hệ số (a, b, c) từ giải hệ phương trình: {coefficients_solution}\")\n",
        "a_val = coefficients_solution.get(a)\n",
        "b_val = coefficients_solution.get(b)\n",
        "c_val = coefficients_solution.get(c)\n",
        "print(f\"Kiểm tra lại: a={a_val}, b={b_val}, c={c_val}\")\n",
        "\n",
        "integral_result = sympy.integrate(expr, (x, 0, 1))\n",
        "print(f\"Kết quả tích phân từ 0 đến 1: {integral_result}\")\n",
        "\n",
        "\n"
      ],
      "metadata": {
        "colab": {
          "base_uri": "https://localhost:8080/"
        },
        "id": "5qWiPX0davF_",
        "outputId": "bdea32d8-0cb0-47c4-a8bb-f50aef15357a"
      },
      "execution_count": 4,
      "outputs": [
        {
          "output_type": "stream",
          "name": "stdout",
          "text": [
            "Biểu thức gốc: x*(x - 3)/((x - 1)**2*(x + 2))\n",
            "Phân tích phân số từng phần: 10/(9*(x + 2)) - 1/(9*(x - 1)) - 2/(3*(x - 1)**2)\n",
            "Các hệ số (a, b, c) từ giải hệ phương trình: {a: -1/9, b: -2/3, c: 10/9}\n",
            "Kiểm tra lại: a=-1/9, b=-2/3, c=10/9\n",
            "Kết quả tích phân từ 0 đến 1: -oo + I*pi/9\n"
          ]
        }
      ]
    },
    {
      "cell_type": "code",
      "source": [
        "import numpy as np\n",
        "\n",
        "def fibonacci(n):\n",
        "    if n < 0:\n",
        "        return None\n",
        "    elif n == 0:\n",
        "        return 0\n",
        "    elif n == 1:\n",
        "        return 1\n",
        "    else:\n",
        "        a, b = 0, 1\n",
        "        for _ in range(2, n + 1):\n",
        "            a, b = b, a + b\n",
        "        return b\n",
        "\n",
        "M = np.array([[1, 1],\n",
        "              [1, 0]])\n",
        "\n",
        "for k_val in range(1, 6):\n",
        "    M_k = np.linalg.matrix_power(M, k_val)\n",
        "\n",
        "    fib_k_minus_1 = fibonacci(k_val - 1)\n",
        "    fib_k = fibonacci(k_val)\n",
        "    fib_k_plus_1 = fibonacci(k_val + 1)\n",
        "\n",
        "    expected_M_k = np.array([[fib_k_plus_1, fib_k],\n",
        "                             [fib_k, fib_k_minus_1]])\n",
        "\n",
        "    print(f\"\\nVới k = {k_val}:\")\n",
        "    print(f\"Ma trận M^{k_val} (tính bằng numpy):\")\n",
        "    print(M_k)\n",
        "    print(f\"Ma trận Fibonacci dự kiến:\")\n",
        "    print(expected_M_k)\n",
        "\n",
        "    if np.array_equal(M_k, expected_M_k):\n",
        "        print(\"=> Chứng minh đúng cho giá trị k này.\")\n",
        "    else:\n",
        "        print(\"=> Chứng minh KHÔNG đúng cho giá trị k này (có lỗi xảy ra!).\")"
      ],
      "metadata": {
        "colab": {
          "base_uri": "https://localhost:8080/"
        },
        "id": "WAAupRTsbSIl",
        "outputId": "0f1a52fc-18e1-4f1f-f156-f2d0e0c92ca5"
      },
      "execution_count": 3,
      "outputs": [
        {
          "output_type": "stream",
          "name": "stdout",
          "text": [
            "\n",
            "Với k = 1:\n",
            "Ma trận M^1 (tính bằng numpy):\n",
            "[[1 1]\n",
            " [1 0]]\n",
            "Ma trận Fibonacci dự kiến:\n",
            "[[1 1]\n",
            " [1 0]]\n",
            "=> Chứng minh đúng cho giá trị k này.\n",
            "\n",
            "Với k = 2:\n",
            "Ma trận M^2 (tính bằng numpy):\n",
            "[[2 1]\n",
            " [1 1]]\n",
            "Ma trận Fibonacci dự kiến:\n",
            "[[2 1]\n",
            " [1 1]]\n",
            "=> Chứng minh đúng cho giá trị k này.\n",
            "\n",
            "Với k = 3:\n",
            "Ma trận M^3 (tính bằng numpy):\n",
            "[[3 2]\n",
            " [2 1]]\n",
            "Ma trận Fibonacci dự kiến:\n",
            "[[3 2]\n",
            " [2 1]]\n",
            "=> Chứng minh đúng cho giá trị k này.\n",
            "\n",
            "Với k = 4:\n",
            "Ma trận M^4 (tính bằng numpy):\n",
            "[[5 3]\n",
            " [3 2]]\n",
            "Ma trận Fibonacci dự kiến:\n",
            "[[5 3]\n",
            " [3 2]]\n",
            "=> Chứng minh đúng cho giá trị k này.\n",
            "\n",
            "Với k = 5:\n",
            "Ma trận M^5 (tính bằng numpy):\n",
            "[[8 5]\n",
            " [5 3]]\n",
            "Ma trận Fibonacci dự kiến:\n",
            "[[8 5]\n",
            " [5 3]]\n",
            "=> Chứng minh đúng cho giá trị k này.\n"
          ]
        }
      ]
    }
  ]
}